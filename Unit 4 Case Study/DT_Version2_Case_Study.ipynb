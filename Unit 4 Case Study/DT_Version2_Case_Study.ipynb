{
 "cells": [
  {
   "cell_type": "markdown",
   "metadata": {
    "collapsed": true
   },
   "source": [
    "# REMOVE BEFORE TURNING THIS IN!!!!!!! - Instructions"
   ]
  },
  {
   "cell_type": "raw",
   "metadata": {},
   "source": [
    "Unit 4: Case Study\n",
    "Assignments and Grading\n",
    "Assignment: Financial Applications of Time Series\n",
    "\t� Choose either the Signal Frontier Analysis application or Future Contract Rolling application.\n",
    "\t� Use different stocks than those shown in examples.\n",
    "\t� Create iPython Notebook, including code, output, and graphics.\n",
    "\t� Include an introduction in your notebook to give background on your application.\n",
    "\t� Be sure to explain calculations and output in the appropriate places.\n",
    "\t� List outside references if used.\n",
    "    \n",
    "\n",
    "Case study write-ups are to be �technical report ready,� which basically means that the write-up is suitable for public viewing.\n",
    "\t� Your name must be at the beginning of the notebook.\n",
    "\t� The notebook should divided into an abstract, an introduction, a methods section, a results section, and a future work/discussion/conclusion section.\n",
    "\t� Use an easy-to-read variable-width font (I like Ariel, Helvetica, and Geneva font) with a minimum of 11 point font.\n",
    "\t� Relevant code and output must be explained in the notebook as close to the code/output as possible.\n",
    "\t� Any graphics generated using the code must be explained in the notebook as close to the graphic as possible.\n",
    "    \n",
    "    \n",
    "Upload Instructions\n",
    "\t� Save your notebook. The filename should include your first initial and last name and \"_Case Study Title\" (e.g., JDoe_week4casestudy).\n",
    "\t� Click the Submissions tab above.\n",
    "\t� Click Upload and follow the steps to attach your document.\n",
    "\t� You also have the option to upload the iPython document to GitHub or Dropbox and submit a link to the document.\n",
    "\n",
    "From <https://2ds.datascience.smu.edu/mod/assignment/view.php?id=18371"
   ]
  },
  {
   "cell_type": "markdown",
   "metadata": {},
   "source": [
    "<h1><center>Financial Applications of Time Series</center></h1>\n",
    "<center> David Tran, Frank Sclafani, Matthew Przybyla, and Brandon Hill</center>\n",
    "<center> MSDS 7333 - Quantifying the World - Case Study 4 (Unit 4)</center>\n",
    "<center> June 5 2018</center>"
   ]
  },
  {
   "cell_type": "markdown",
   "metadata": {},
   "source": [
    "# Notebook Navigation\n",
    "\n",
    "[1) Abstract](#Abstract) \n",
    "\n",
    "[2) Introduction](#Introduction)\n",
    "\n",
    "[3) Methods](#Methods) \n",
    "\n",
    "[4) Results](#Results) \n",
    "\n",
    "[5) Future Work / Discussion / Conclusions](#Future Work, Discussion Conclusions, and Next Steps) \n",
    "\n",
    "[6) References](#References) "
   ]
  },
  {
   "cell_type": "markdown",
   "metadata": {},
   "source": [
    "# Abstract"
   ]
  },
  {
   "cell_type": "markdown",
   "metadata": {},
   "source": [
    "- Using Python libraries to handle financial time series data:\n",
    "* One of the most time-consuming issues in working with financial data is the so-called data alignment problem. (pg.330)\n",
    "    * Two related time series may have indexes that don�t line up perfectly, or two DataFrame objects might have columns or row labels that don�t match.\n",
    "    * pandas take an alternate approach by automatically aligning data in arithmetic operations.\n",
    "* In this section, I�ll describe a simplified cross-sectional momentum portfolio and show how you might explore a grid of model parameterizations. First, I�ll load historical prices for a portfolio of financial and technology stocks: (pg.345)\n",
    "    * Cummaltive returns\n",
    "    * momentum\n",
    "* Rolling Correlation and Linear Regression (pg. 350)\n",
    "    \n"
   ]
  },
  {
   "cell_type": "markdown",
   "metadata": {},
   "source": [
    "# Introduction"
   ]
  },
  {
   "cell_type": "markdown",
   "metadata": {},
   "source": [
    "Financial instituions or FIs, such as banks and traders, heavily rely on financial modeling and forecasting in order to create a portfolio or risk recommendations to their clients. The performance and research by financial institutions are limited by their headcount and resources. The data science fields has different models and algorithms that can handle large amounts of financial data and analyze it in order for trend and predictive analysis. For our analysis, we have chosen the Signal Frontier Analysis method. \n",
    "\n",
    "The method consist of a simplified cross-sectional momentum portfolio and shows how someone would explore a grid of model parameterizations. The financial stock data came from a Yahoo Finance API. The stocks that were chosen are: Amazon (AMZN), Walmart (WMT), Target (TGT), Best Buy (BBY), and Costco (COST). All of these companies are in the retail industry, such as consumer goods, retail, or electronics. \n",
    "\n",
    "The date range of the data set spans 5 years between June 4, 2013 to June 1, 2018. The analysis will be based off of its daily closing price. The analysis will allow to understand and create insight of different trends, correlations, and findings. All of the findings will be explained in the Results down below. "
   ]
  },
  {
   "cell_type": "markdown",
   "metadata": {},
   "source": [
    "# Background"
   ]
  },
  {
   "cell_type": "markdown",
   "metadata": {},
   "source": [
    "The stock market volumes dataset collected via the Yahoo Finance API contains 1,304 observations and 6 variables. There is no missing data within any of the variables across all observations. Our objective is to analyze the historical daily adjusted closing stock prices for 5 major retail companies for the 5-year span between June 4, 2013 and June 1, 2018. A full list of variable descriptions, including the Datetime variable in which the observation was captured and the data is indexed by, can be found in Table 1:"
   ]
  },
  {
   "cell_type": "markdown",
   "metadata": {
    "caption": "Variable Desscriptions",
    "label": "Table 1:Variable Descriptions",
    "widefigure": true
   },
   "source": [
    "|    Variable   |                                         Description                                         |    Type    |\n",
    "|:-------------:|:-------------------------------------------------------------------------------------------:|:----------:|\n",
    "| DatetimeIndex | Date observation was collected. (Index of data)                                             |  Ordinal   |\n",
    "| AMZN          | Amazon.com, Inc. adjusted close price adjusted for both dividends and   splits.             | Continuous |\n",
    "| WMT           | Walmart Inc. adjusted close price adjusted for both dividends and splits.                   | Continuous |\n",
    "| TGT           | Target Corporation adjusted close price adjusted for both dividends and   splits.           | Continuous |\n",
    "| BBY           | Best Buy Co., Inc. adjusted close price adjusted for both dividends and   splits.           | Continuous |\n",
    "| COST          | Costco Wholesale Corporation adjusted close price adjusted for both   dividends and splits. | Continuous |"
   ]
  },
  {
   "cell_type": "code",
   "execution_count": 2,
   "metadata": {},
   "outputs": [
    {
     "ename": "NameError",
     "evalue": "name 'px' is not defined",
     "output_type": "error",
     "traceback": [
      "\u001b[1;31m\u001b[0m",
      "\u001b[1;31mNameError\u001b[0mTraceback (most recent call last)",
      "\u001b[1;32m<ipython-input-2-1aced8d5b02b>\u001b[0m in \u001b[0;36m<module>\u001b[1;34m()\u001b[0m\n\u001b[1;32m----> 1\u001b[1;33m \u001b[0mpx\u001b[0m\u001b[1;33m.\u001b[0m\u001b[0mdescribe\u001b[0m\u001b[1;33m(\u001b[0m\u001b[1;33m)\u001b[0m\u001b[1;33m\u001b[0m\u001b[0m\n\u001b[0m",
      "\u001b[1;31mNameError\u001b[0m: name 'px' is not defined"
     ]
    }
   ],
   "source": [
    "px.describe()"
   ]
  },
  {
   "cell_type": "code",
   "execution_count": 1,
   "metadata": {},
   "outputs": [
    {
     "ename": "NameError",
     "evalue": "name 'px' is not defined",
     "output_type": "error",
     "traceback": [
      "\u001b[1;31m\u001b[0m",
      "\u001b[1;31mNameError\u001b[0mTraceback (most recent call last)",
      "\u001b[1;32m<ipython-input-1-df295412e5a4>\u001b[0m in \u001b[0;36m<module>\u001b[1;34m()\u001b[0m\n\u001b[1;32m----> 1\u001b[1;33m \u001b[0mpx\u001b[0m\u001b[1;33m.\u001b[0m\u001b[0minfo\u001b[0m\u001b[1;33m(\u001b[0m\u001b[1;33m)\u001b[0m\u001b[1;33m\u001b[0m\u001b[0m\n\u001b[0m",
      "\u001b[1;31mNameError\u001b[0m: name 'px' is not defined"
     ]
    }
   ],
   "source": [
    "px.info()"
   ]
  },
  {
   "cell_type": "markdown",
   "metadata": {},
   "source": [
    "# Methods - Signal Frontier Analysis"
   ]
  },
  {
   "cell_type": "code",
   "execution_count": 3,
   "metadata": {
    "scrolled": true
   },
   "outputs": [
    {
     "data": {
      "text/html": [
       "\n",
       "<style>\n",
       "    div#notebook-container    { width: 95%; }\n",
       "    div#menubar-container     { width: 65%; }\n",
       "    div#maintoolbar-container { width: 99%; }\n",
       "</style>\n"
      ],
      "text/plain": [
       "<IPython.core.display.HTML object>"
      ]
     },
     "metadata": {},
     "output_type": "display_data"
    }
   ],
   "source": [
    "# This cell just tells the notebook to set the width of the cells in relation to the screen width\n",
    "from IPython.display import display, HTML\n",
    "display(HTML(data=\"\"\"\n",
    "<style>\n",
    "    div#notebook-container    { width: 95%; }\n",
    "    div#menubar-container     { width: 65%; }\n",
    "    div#maintoolbar-container { width: 99%; }\n",
    "</style>\n",
    "\"\"\"))"
   ]
  },
  {
   "cell_type": "code",
   "execution_count": 4,
   "metadata": {},
   "outputs": [
    {
     "name": "stdout",
     "output_type": "stream",
     "text": [
      "Loading globals ...\n"
     ]
    },
    {
     "ename": "ImportError",
     "evalue": "No module named pandas_datareader",
     "output_type": "error",
     "traceback": [
      "\u001b[1;31m\u001b[0m",
      "\u001b[1;31mImportError\u001b[0mTraceback (most recent call last)",
      "\u001b[1;32m<ipython-input-4-653109a4f8f9>\u001b[0m in \u001b[0;36m<module>\u001b[1;34m()\u001b[0m\n\u001b[0;32m      5\u001b[0m \u001b[0mstart_dt\u001b[0m\u001b[1;33m=\u001b[0m\u001b[0mdatetime\u001b[0m\u001b[1;33m.\u001b[0m\u001b[0mdatetime\u001b[0m\u001b[1;33m(\u001b[0m\u001b[1;36m2013\u001b[0m\u001b[1;33m,\u001b[0m\u001b[1;36m1\u001b[0m\u001b[1;33m,\u001b[0m\u001b[1;36m1\u001b[0m\u001b[1;33m)\u001b[0m\u001b[1;33m\u001b[0m\u001b[0m\n\u001b[0;32m      6\u001b[0m \u001b[0mend_dt\u001b[0m\u001b[1;33m=\u001b[0m\u001b[0mdatetime\u001b[0m\u001b[1;33m.\u001b[0m\u001b[0mdatetime\u001b[0m\u001b[1;33m(\u001b[0m\u001b[1;36m2018\u001b[0m\u001b[1;33m,\u001b[0m\u001b[1;36m7\u001b[0m\u001b[1;33m,\u001b[0m\u001b[1;36m1\u001b[0m\u001b[1;33m)\u001b[0m\u001b[1;33m\u001b[0m\u001b[0m\n\u001b[1;32m----> 7\u001b[1;33m \u001b[1;32mfrom\u001b[0m \u001b[0mpandas_datareader\u001b[0m \u001b[1;32mimport\u001b[0m \u001b[0mdata\u001b[0m \u001b[1;32mas\u001b[0m \u001b[0mweb\u001b[0m\u001b[1;33m\u001b[0m\u001b[0m\n\u001b[0m\u001b[0;32m      8\u001b[0m \u001b[1;33m\u001b[0m\u001b[0m\n\u001b[0;32m      9\u001b[0m \u001b[1;32mfrom\u001b[0m \u001b[0m__future__\u001b[0m \u001b[1;32mimport\u001b[0m \u001b[0mdivision\u001b[0m\u001b[1;33m\u001b[0m\u001b[0m\n",
      "\u001b[1;31mImportError\u001b[0m: No module named pandas_datareader"
     ]
    }
   ],
   "source": [
    "print('Loading globals ...')\n",
    "\n",
    "import datetime\n",
    "import pandas as pd\n",
    "start_dt=datetime.datetime(2013,1,1)\n",
    "end_dt=datetime.datetime(2018,7,1)\n",
    "from pandas_datareader import data as web\n",
    "\n",
    "from __future__ import division\n",
    "from pandas import Series, DataFrame\n",
    "import pandas as pd\n",
    "from numpy.random import randn\n",
    "import numpy as np\n",
    "pd.options.display.max_rows = 12\n",
    "np.set_printoptions(precision=4, suppress=True)\n",
    "import matplotlib.pyplot as plt\n",
    "plt.rc('figure', figsize=(12, 6))\n",
    "\n",
    "import warnings\n",
    "warnings.filterwarnings('ignore')\n",
    "\n",
    "print('Globals Loaded')"
   ]
  },
  {
   "cell_type": "code",
   "execution_count": 18,
   "metadata": {
    "scrolled": true
   },
   "outputs": [
    {
     "name": "stdout",
     "output_type": "stream",
     "text": [
      "\n",
      "Loading Data\n",
      "5y\n",
      "5y\n",
      "5y\n",
      "5y\n",
      "5y\n",
      "File Has Been Loaded\n"
     ]
    }
   ],
   "source": [
    "print('')\n",
    "print('Loading Data')\n",
    "\n",
    "stock='AMZN'\n",
    "px=pd.DataFrame({'AMZN':web.DataReader(stock,'iex', start_dt, end_dt)['close']})\n",
    "names=['WMT','TGT', 'BBY','COST']\n",
    "for stock in names:\n",
    "    while True:\n",
    "        try:\n",
    "            px[stock]=web.DataReader(stock,'iex', start_dt, end_dt)['close']\n",
    "            break\n",
    "        except:\n",
    "            print('Unable to read stock: {0}'.format(stock))\n",
    "            print('trying again')\n",
    "px.index=pd.to_datetime(px.index)\n",
    "\n",
    "print('File Has Been Loaded')"
   ]
  },
  {
   "cell_type": "markdown",
   "metadata": {},
   "source": [
    "http://pandasguide.readthedocs.io/en/latest/Pandas/timeseries.html\n",
    "\n",
    "A series of time can be generated using �date_range� command. In below code, �periods� is the total number of samples; whereas freq = �M� represents that series must be generated based on �Month�.\n",
    "\n",
    "By default, pandas consider �M� as end of the month. Use �MS� for start of the month. Similarly, other options are also available for day (�D�), business days (�B�) and hours (�H�) etc."
   ]
  },
  {
   "cell_type": "code",
   "execution_count": 19,
   "metadata": {
    "collapsed": true
   },
   "outputs": [],
   "source": [
    "px = px.asfreq('B').fillna(method='pad')"
   ]
  },
  {
   "cell_type": "code",
   "execution_count": 20,
   "metadata": {
    "scrolled": true
   },
   "outputs": [
    {
     "data": {
      "text/html": [
       "<div>\n",
       "<style>\n",
       "    .dataframe thead tr:only-child th {\n",
       "        text-align: right;\n",
       "    }\n",
       "\n",
       "    .dataframe thead th {\n",
       "        text-align: left;\n",
       "    }\n",
       "\n",
       "    .dataframe tbody tr th {\n",
       "        vertical-align: top;\n",
       "    }\n",
       "</style>\n",
       "<table border=\"1\" class=\"dataframe\">\n",
       "  <thead>\n",
       "    <tr style=\"text-align: right;\">\n",
       "      <th></th>\n",
       "      <th>AMZN</th>\n",
       "      <th>WMT</th>\n",
       "      <th>TGT</th>\n",
       "      <th>BBY</th>\n",
       "      <th>COST</th>\n",
       "    </tr>\n",
       "    <tr>\n",
       "      <th>date</th>\n",
       "      <th></th>\n",
       "      <th></th>\n",
       "      <th></th>\n",
       "      <th></th>\n",
       "      <th></th>\n",
       "    </tr>\n",
       "  </thead>\n",
       "  <tbody>\n",
       "    <tr>\n",
       "      <th>2013-06-04</th>\n",
       "      <td>265.70</td>\n",
       "      <td>66.3049</td>\n",
       "      <td>60.7427</td>\n",
       "      <td>23.5235</td>\n",
       "      <td>97.3715</td>\n",
       "    </tr>\n",
       "    <tr>\n",
       "      <th>2013-06-05</th>\n",
       "      <td>267.17</td>\n",
       "      <td>65.7025</td>\n",
       "      <td>59.6044</td>\n",
       "      <td>23.2574</td>\n",
       "      <td>96.0604</td>\n",
       "    </tr>\n",
       "    <tr>\n",
       "      <th>2013-06-06</th>\n",
       "      <td>267.83</td>\n",
       "      <td>66.0343</td>\n",
       "      <td>59.6809</td>\n",
       "      <td>23.7639</td>\n",
       "      <td>97.7498</td>\n",
       "    </tr>\n",
       "    <tr>\n",
       "      <th>2013-06-07</th>\n",
       "      <td>276.87</td>\n",
       "      <td>66.6455</td>\n",
       "      <td>59.7658</td>\n",
       "      <td>23.6344</td>\n",
       "      <td>97.3011</td>\n",
       "    </tr>\n",
       "    <tr>\n",
       "      <th>2013-06-10</th>\n",
       "      <td>281.07</td>\n",
       "      <td>66.1390</td>\n",
       "      <td>59.3581</td>\n",
       "      <td>24.2218</td>\n",
       "      <td>97.0635</td>\n",
       "    </tr>\n",
       "    <tr>\n",
       "      <th>2013-06-11</th>\n",
       "      <td>274.78</td>\n",
       "      <td>65.7025</td>\n",
       "      <td>59.4600</td>\n",
       "      <td>24.0922</td>\n",
       "      <td>96.8083</td>\n",
       "    </tr>\n",
       "    <tr>\n",
       "      <th>...</th>\n",
       "      <td>...</td>\n",
       "      <td>...</td>\n",
       "      <td>...</td>\n",
       "      <td>...</td>\n",
       "      <td>...</td>\n",
       "    </tr>\n",
       "    <tr>\n",
       "      <th>2018-05-25</th>\n",
       "      <td>1610.15</td>\n",
       "      <td>82.4600</td>\n",
       "      <td>71.2100</td>\n",
       "      <td>68.4500</td>\n",
       "      <td>198.3600</td>\n",
       "    </tr>\n",
       "    <tr>\n",
       "      <th>2018-05-28</th>\n",
       "      <td>1610.15</td>\n",
       "      <td>82.4600</td>\n",
       "      <td>71.2100</td>\n",
       "      <td>68.4500</td>\n",
       "      <td>198.3600</td>\n",
       "    </tr>\n",
       "    <tr>\n",
       "      <th>2018-05-29</th>\n",
       "      <td>1612.87</td>\n",
       "      <td>82.4000</td>\n",
       "      <td>71.7000</td>\n",
       "      <td>68.1800</td>\n",
       "      <td>196.7400</td>\n",
       "    </tr>\n",
       "    <tr>\n",
       "      <th>2018-05-30</th>\n",
       "      <td>1624.89</td>\n",
       "      <td>84.1200</td>\n",
       "      <td>73.4700</td>\n",
       "      <td>69.6000</td>\n",
       "      <td>199.6400</td>\n",
       "    </tr>\n",
       "    <tr>\n",
       "      <th>2018-05-31</th>\n",
       "      <td>1629.62</td>\n",
       "      <td>82.5400</td>\n",
       "      <td>72.8900</td>\n",
       "      <td>68.2500</td>\n",
       "      <td>198.2400</td>\n",
       "    </tr>\n",
       "    <tr>\n",
       "      <th>2018-06-01</th>\n",
       "      <td>1641.54</td>\n",
       "      <td>82.9900</td>\n",
       "      <td>72.8000</td>\n",
       "      <td>68.8500</td>\n",
       "      <td>197.1300</td>\n",
       "    </tr>\n",
       "  </tbody>\n",
       "</table>\n",
       "<p>1304 rows � 5 columns</p>\n",
       "</div>"
      ],
      "text/plain": [
       "               AMZN      WMT      TGT      BBY      COST\n",
       "date                                                    \n",
       "2013-06-04   265.70  66.3049  60.7427  23.5235   97.3715\n",
       "2013-06-05   267.17  65.7025  59.6044  23.2574   96.0604\n",
       "2013-06-06   267.83  66.0343  59.6809  23.7639   97.7498\n",
       "2013-06-07   276.87  66.6455  59.7658  23.6344   97.3011\n",
       "2013-06-10   281.07  66.1390  59.3581  24.2218   97.0635\n",
       "2013-06-11   274.78  65.7025  59.4600  24.0922   96.8083\n",
       "...             ...      ...      ...      ...       ...\n",
       "2018-05-25  1610.15  82.4600  71.2100  68.4500  198.3600\n",
       "2018-05-28  1610.15  82.4600  71.2100  68.4500  198.3600\n",
       "2018-05-29  1612.87  82.4000  71.7000  68.1800  196.7400\n",
       "2018-05-30  1624.89  84.1200  73.4700  69.6000  199.6400\n",
       "2018-05-31  1629.62  82.5400  72.8900  68.2500  198.2400\n",
       "2018-06-01  1641.54  82.9900  72.8000  68.8500  197.1300\n",
       "\n",
       "[1304 rows x 5 columns]"
      ]
     },
     "execution_count": 20,
     "metadata": {},
     "output_type": "execute_result"
    }
   ],
   "source": [
    "px"
   ]
  },
  {
   "cell_type": "code",
   "execution_count": 23,
   "metadata": {
    "collapsed": true
   },
   "outputs": [],
   "source": [
    "plt.close('all')"
   ]
  },
  {
   "cell_type": "markdown",
   "metadata": {},
   "source": [
    "Plot the Cumulative Returns of  each stock:"
   ]
  },
  {
   "cell_type": "code",
   "execution_count": 24,
   "metadata": {
    "collapsed": true
   },
   "outputs": [],
   "source": [
    "import seaborn as sns\n",
    "sns.set(style=\"ticks\")"
   ]
  },
  {
   "cell_type": "markdown",
   "metadata": {},
   "source": [
    "Figure Cumulative returns for each of the stocks"
   ]
  },
  {
   "cell_type": "markdown",
   "metadata": {},
   "source": [
    "In the graph below, all five stocks are compared over the five year period. The most noticeable trend is from AMZN, which is nearly twice the level at the current time as any other stock. Interestingly, the second highest stock, BBY, increases as AMZN does, almost mimicking/paralleling it’s behavior. This event could be indicative of mutual characteristics between the two companies. While COST, WMT, and TGT see overall low returns, relatively, AMZN however does have a precipitous drop at the year 2016. Research suggests this activity could be due to an increase in investment from digital content, such as AWS and Echo.  "
   ]
  },
  {
   "cell_type": "code",
   "execution_count": 25,
   "metadata": {},
   "outputs": [
    {
     "data": {
      "image/png": "[encoded data removed]",
      "text/plain": [
       "<matplotlib.figure.Figure at 0x18afbf5d048>"
      ]
     },
     "metadata": {},
     "output_type": "display_data"
    }
   ],
   "source": [
    "px = px.asfreq('B').fillna(method='pad')\n",
    "rets = px.pct_change()\n",
    "((1 + rets).cumprod() - 1).plot()\n",
    "plt.show()"
   ]
  },
  {
   "cell_type": "code",
   "execution_count": null,
   "metadata": {},
   "outputs": [],
   "source": []
  },
  {
   "cell_type": "markdown",
   "metadata": {},
   "source": [
    "For the portfolio construction, we'll compute momentum over a certain lookback, then rank in descending order and standardize:"
   ]
  },
  {
   "cell_type": "code",
   "execution_count": 26,
   "metadata": {
    "collapsed": true
   },
   "outputs": [],
   "source": [
    "def calc_mom(price, lookback, lag):\n",
    "    mom_ret = price.shift(lag).pct_change(lookback)\n",
    "    ranks = mom_ret.rank(axis=1, ascending=False)\n",
    "    demeaned = ranks.subtract(ranks.mean(axis=1), axis=0)\n",
    "    return demeaned.divide(demeaned.std(axis=1), axis=0)"
   ]
  },
  {
   "cell_type": "markdown",
   "metadata": {},
   "source": [
    "With this transform function in hand, we can set up a strategy backtesting function that computes a portfolio for a particular lookback and holding period (days between trading), returning the overall Sharpe ratio"
   ]
  },
  {
   "cell_type": "code",
   "execution_count": 27,
   "metadata": {
    "collapsed": true
   },
   "outputs": [],
   "source": [
    "compound = lambda x : (1 + x).prod() - 1\n",
    "daily_sr = lambda x: x.mean() / x.std()\n",
    "\n",
    "def strat_sr(prices, lb, hold):\n",
    "    \n",
    "    # Compute portfolio weights\n",
    "    freq = '%dB' % hold\n",
    "    port = calc_mom(prices, lb, lag=1)\n",
    "\n",
    "    daily_rets = prices.pct_change()\n",
    "\n",
    "    # Compute portfolio returns\n",
    "    port = port.shift(1).resample(freq, how='first')\n",
    "    returns = daily_rets.resample(freq, how=compound)\n",
    "    port_rets = (port * returns).sum(axis=1)\n",
    "\n",
    "    return daily_sr(port_rets) * np.sqrt(252 / hold)"
   ]
  },
  {
   "cell_type": "markdown",
   "metadata": {},
   "source": [
    "\n",
    "When called with the prices and a parameter combination, this function returns a scalar value:"
   ]
  },
  {
   "cell_type": "code",
   "execution_count": 28,
   "metadata": {},
   "outputs": [
    {
     "data": {
      "text/plain": [
       "0.04782554320122095"
      ]
     },
     "execution_count": 28,
     "metadata": {},
     "output_type": "execute_result"
    }
   ],
   "source": [
    "strat_sr(px, 70, 30)"
   ]
  },
  {
   "cell_type": "markdown",
   "metadata": {},
   "source": [
    "From there, you can evaluate the strat_sr function over a grid of parameters, storing them as you go in a defaultdict and finally putting the results in a DataFrame:"
   ]
  },
  {
   "cell_type": "code",
   "execution_count": 29,
   "metadata": {
    "collapsed": true
   },
   "outputs": [],
   "source": [
    "from collections import defaultdict\n",
    "\n",
    "lookbacks = range(20, 90, 5)\n",
    "holdings = range(20, 90, 5)\n",
    "dd = defaultdict(dict)\n",
    "for lb in lookbacks:\n",
    "    for hold in holdings:\n",
    "        dd[lb][hold] = strat_sr(px, lb, hold)\n",
    "\n",
    "ddf = DataFrame(dd)\n",
    "ddf.index.name = 'Holding Period'\n",
    "ddf.columns.name = 'Lookback Period'"
   ]
  },
  {
   "cell_type": "markdown",
   "metadata": {},
   "source": [
    "# Results"
   ]
  },
  {
   "cell_type": "markdown",
   "metadata": {},
   "source": [
    "To visualize the results and get an idea of what is going on, here is a function that uses matplotlib to produce a heatmap with some adornments:"
   ]
  },
  {
   "cell_type": "code",
   "execution_count": 30,
   "metadata": {
    "collapsed": true
   },
   "outputs": [],
   "source": [
    "import matplotlib.pyplot as plt\n",
    "\n",
    "def heatmap(df, cmap=plt.cm.gray_r):\n",
    "    fig = plt.figure()\n",
    "    ax = fig.add_subplot(111)\n",
    "    axim = ax.imshow(df.values, cmap=cmap, interpolation='nearest')\n",
    "    ax.set_xlabel(df.columns.name)\n",
    "    ax.set_xticks(np.arange(len(df.columns)))\n",
    "    ax.set_xticklabels(list(df.columns))\n",
    "    ax.set_ylabel(df.index.name)\n",
    "    ax.set_yticks(np.arange(len(df.index)))\n",
    "    ax.set_yticklabels(list(df.index))\n",
    "    plt.colorbar(axim)"
   ]
  },
  {
   "cell_type": "markdown",
   "metadata": {},
   "source": [
    "Figure. Heatmap of momentum strategy Sharpe ratio (higher is better) over various lookbacks and holding periods"
   ]
  },
  {
   "cell_type": "code",
   "execution_count": 31,
   "metadata": {},
   "outputs": [
    {
     "data": {
      "image/png": "[encoded data removed]",
      "text/plain": [
       "<matplotlib.figure.Figure at 0x18afc3e92e8>"
      ]
     },
     "metadata": {},
     "output_type": "display_data"
    }
   ],
   "source": [
    "heatmap(ddf)\n",
    "plt.show()"
   ]
  },
  {
   "cell_type": "markdown",
   "metadata": {},
   "source": [
    "In finance, holding period return (HPR) is the return on an asset or portfolio over the whole period during which it was held.\n",
    "\n",
    "Quadrants 1 and 4 have higher sharpe ratios demonstrating that lookback periods greater than 50 days produce a larger return against the risk free return treasury bill. We see that holding periods of between 25 and 75 days tend to perform better combined with a lookback period greater than 50 days.\n",
    "\n",
    "Quadrant 2 and 3 demonstrate that lookback periods less than 50 days, we see that holding periods of 25, 55-65, and 80 days fare better. "
   ]
  },
  {
   "cell_type": "markdown",
   "metadata": {},
   "source": [
    "# Future Work / Discussion / Conclusions"
   ]
  },
  {
   "cell_type": "markdown",
   "metadata": {},
   "source": [
    "For practical applications of this analysis we will be wise to not blindly accept market strategy results. In our analysis on the dataset in this study, we naturally settled on results that provided the highest return. Also, our strategy assumes that historical success is an indicator of how the stock will perform in the future. As we all know, there of course no way of knowing for sure how the market will perform.During our analysis we used a weight constraint at minimum variance. Our system rebalances the portfolio data once per business day. Future analysis could explore the possibility of longer time periods, such as daily or weekly rebalancing and compare that to see if that provides an additional advantage. Finally, other methods, other than the Sharp Ratio that we chose for this analysis, should be evaluated and compare the constraints using regression comparison analysis."
   ]
  },
  {
   "cell_type": "markdown",
   "metadata": {},
   "source": [
    "# References"
   ]
  },
  {
   "cell_type": "markdown",
   "metadata": {},
   "source": [
    "1. https://www.investopedia.com/terms/s/sharperatio.asp\n",
    "2. http://money.cnn.com/2016/10/27/technology/amazon-earnings/index.html  \n"
   ]
  }
 ],
 "metadata": {
  "anaconda-cloud": {},
  "kernelspec": {
   "display_name": "Python 2",
   "language": "python",
   "name": "python2"
  },
  "language_info": {
   "codemirror_mode": {
    "name": "ipython",
    "version": 2
   },
   "file_extension": ".py",
   "mimetype": "text/x-python",
   "name": "python",
   "nbconvert_exporter": "python",
   "pygments_lexer": "ipython2",
   "version": "2.7.14"
  }
 },
 "nbformat": 4,
 "nbformat_minor": 1
}
