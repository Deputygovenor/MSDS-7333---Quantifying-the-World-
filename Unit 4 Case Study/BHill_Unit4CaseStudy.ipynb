{
 "cells": [
  {
   "cell_type": "markdown",
   "metadata": {},
   "source": [
    "# Financial Applications of Time Series\n",
    "David Tran, Frank Sclafani, Matthew Przybyla, and Brandon Hill\n",
    "\n",
    "MSDS 7333 - Quantifying the World - Case Study 4 (Unit 4)\n",
    "\n",
    "June 5 2018\n"
   ]
  },
  {
   "cell_type": "code",
   "execution_count": 2,
   "metadata": {
    "scrolled": true
   },
   "outputs": [
    {
     "data": {
      "text/html": [
       "\n",
       "<style>\n",
       "    div#notebook-container    { width: 95%; }\n",
       "    div#menubar-container     { width: 65%; }\n",
       "    div#maintoolbar-container { width: 99%; }\n",
       "</style>\n"
      ],
      "text/plain": [
       "<IPython.core.display.HTML object>"
      ]
     },
     "metadata": {},
     "output_type": "display_data"
    }
   ],
   "source": [
    "# This cell just tells the notebook to set the width of the cells in relation to the screen width\n",
    "from IPython.display import display, HTML\n",
    "display(HTML(data=\"\"\"\n",
    "<style>\n",
    "    div#notebook-container    { width: 95%; }\n",
    "    div#menubar-container     { width: 65%; }\n",
    "    div#maintoolbar-container { width: 99%; }\n",
    "</style>\n",
    "\"\"\"))"
   ]
  },
  {
   "cell_type": "markdown",
   "metadata": {},
   "source": [
    "# Notebook Navigation\n",
    "\n",
    "[1) Abstract](#Abstract) \n",
    "\n",
    "[2) Introduction](#Introduction)\n",
    "\n",
    "[3) Literature Review](#Literature Review)\n",
    "\n",
    "[4) Methods](#Methods) \n",
    "\n",
    "[5) Future Work, Discussion Conclusions, and Next Steps](#Future Work, Discussion Conclusions, and Next Steps) \n",
    "\n",
    "[6) References](#References) \n",
    "\n",
    "[7) Appendix - Code](#Appendix - Code)"
   ]
  },
  {
   "cell_type": "code",
   "execution_count": 2,
   "metadata": {
    "scrolled": true
   },
   "outputs": [
    {
     "name": "stdout",
     "output_type": "stream",
     "text": [
      "Loading globals ...\n",
      "Populating the interactive namespace from numpy and matplotlib\n",
      "Globals Loaded\n"
     ]
    },
    {
     "name": "stderr",
     "output_type": "stream",
     "text": [
      "F:\\programs\\Anaconda431\\lib\\site-packages\\IPython\\html.py:14: ShimWarning: The `IPython.html` package has been deprecated. You should import from `notebook` instead. `IPython.html.widgets` has moved to `ipywidgets`.\n",
      "  \"`IPython.html.widgets` has moved to `ipywidgets`.\", ShimWarning)\n"
     ]
    }
   ],
   "source": [
    "print('Loading globals ...')\n",
    "\n",
    "import pandas as pd\n",
    "import numpy as np\n",
    "import matplotlib.pyplot as plt\n",
    "\n",
    "print('Globals Loaded')"
   ]
  },
  {
   "cell_type": "code",
   "execution_count": 9,
   "metadata": {},
   "outputs": [
    {
     "name": "stdout",
     "output_type": "stream",
     "text": [
      "\n",
      "Loading Data\n",
      "Loading sheet into uci dataframe ...\n",
      "File load: Successful\n",
      "Loaded Column Descriptions\n",
      "Both Files Have Been Loaded\n"
     ]
    }
   ],
   "source": [
    "print('')\n",
    "print('Loading Data')\n",
    "\n",
    "uci_link = 'https://archive.ics.uci.edu/ml/machine-learning-databases/00350/default%20of%20credit%20card%20clients.xls'\n",
    "\n",
    "xls_file = pd.ExcelFile(uci_link)\n",
    "\n",
    "try:\n",
    "     print('Loading sheet into uci dataframe ...')\n",
    "    uci_df = xls_file.parse(sheetname = 'Data', header = 1) # Load the xls file's Sheet1 as a dataframe\n",
    "     print('File load: Successful')\n",
    "except:\n",
    "     print('File load: Failed!')\n",
    "\n",
    "### created this file from the Kaggle descriptions\n",
    "\n",
    "try:\n",
    "uci_df = pd.read_csv('C:/Users/JZW847/Downloads/SMU/Data Mining/Datasets/UCI_Credit_Card.csv', encoding='ISO-8859-1')\n",
    "uci_attr_desc = pd.read_csv('C:/Temp/dm/UCI_Attribute_Description.csv', encoding='ISO-8859-1')\n",
    "print('Loaded Credit Card Data')\n",
    "except:\n",
    "print('Descriptions File load: Failed')\n",
    "\n",
    "print('Both Files Have Been Loaded')"
   ]
  },
  {
   "cell_type": "markdown",
   "metadata": {},
   "source": [
    "# Abstract"
   ]
  },
  {
   "cell_type": "markdown",
   "metadata": {},
   "source": [
    "# Introduction"
   ]
  },
  {
   "cell_type": "markdown",
   "metadata": {},
   "source": [
    "# Literature Review"
   ]
  },
  {
   "cell_type": "markdown",
   "metadata": {},
   "source": [
    "# Background "
   ]
  },
  {
   "cell_type": "markdown",
   "metadata": {},
   "source": [
    "# Methods"
   ]
  },
  {
   "cell_type": "markdown",
   "metadata": {},
   "source": [
    "# Results"
   ]
  },
  {
   "cell_type": "markdown",
   "metadata": {},
   "source": [
    "# Future Work, Discussion Conclusions, and Next Steps"
   ]
  },
  {
   "cell_type": "markdown",
   "metadata": {},
   "source": [
    "# References"
   ]
  },
  {
   "cell_type": "markdown",
   "metadata": {},
   "source": [
    "# Appendix - Code"
   ]
  },
  {
   "cell_type": "code",
   "execution_count": null,
   "metadata": {
    "collapsed": true
   },
   "outputs": [],
   "source": []
  }
 ],
 "metadata": {
  "anaconda-cloud": {},
  "kernelspec": {
   "display_name": "Python 3",
   "language": "python",
   "name": "python3"
  },
  "language_info": {
   "codemirror_mode": {
    "name": "ipython",
    "version": 3
   },
   "file_extension": ".py",
   "mimetype": "text/x-python",
   "name": "python",
   "nbconvert_exporter": "python",
   "pygments_lexer": "ipython3",
   "version": "3.6.3"
  }
 },
 "nbformat": 4,
 "nbformat_minor": 1
}
