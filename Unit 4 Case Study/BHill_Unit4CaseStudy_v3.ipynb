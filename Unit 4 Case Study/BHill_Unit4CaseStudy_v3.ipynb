{
 "cells": [
  {
   "cell_type": "markdown",
   "metadata": {},
   "source": [
    "<h1><center>Financial Applications of Time Series</center></h1>\n",
    "<h3><center> David Tran, Frank Sclafani, Matthew Przybyla, and Brandon Hill</center></h3>\n",
    "<h3><center> MSDS 7333 - Quantifying the World - Case Study 4 (Unit 4)</center></h3>\n",
    "<h3><center> June 5 2018</center></h3>"
   ]
  },
  {
   "cell_type": "code",
   "execution_count": 1,
   "metadata": {
    "scrolled": true
   },
   "outputs": [
    {
     "data": {
      "text/html": [
       "\n",
       "<style>\n",
       "    div#notebook-container    { width: 95%; }\n",
       "    div#menubar-container     { width: 65%; }\n",
       "    div#maintoolbar-container { width: 99%; }\n",
       "</style>\n"
      ],
      "text/plain": [
       "<IPython.core.display.HTML object>"
      ]
     },
     "metadata": {},
     "output_type": "display_data"
    }
   ],
   "source": [
    "# This cell just tells the notebook to set the width of the cells in relation to the screen width\n",
    "from IPython.display import display, HTML\n",
    "display(HTML(data=\"\"\"\n",
    "<style>\n",
    "    div#notebook-container    { width: 95%; }\n",
    "    div#menubar-container     { width: 65%; }\n",
    "    div#maintoolbar-container { width: 99%; }\n",
    "</style>\n",
    "\"\"\"))"
   ]
  },
  {
   "cell_type": "markdown",
   "metadata": {},
   "source": [
    "# Notebook Navigation\n",
    "\n",
    "[1) Abstract](#Abstract) \n",
    "\n",
    "[2) Introduction](#Introduction)\n",
    "\n",
    "[3) Literature Review](#Literature Review)\n",
    "\n",
    "[4) Methods](#Methods) \n",
    "\n",
    "[5) Future Work, Discussion Conclusions, and Next Steps](#Future Work, Discussion Conclusions, and Next Steps) \n",
    "\n",
    "[6) References](#References) \n",
    "\n",
    "[7) Appendix - Code](#Appendix - Code)"
   ]
  },
  {
   "cell_type": "code",
   "execution_count": 2,
   "metadata": {
    "scrolled": true
   },
   "outputs": [
    {
     "name": "stdout",
     "output_type": "stream",
     "text": [
      "Loading globals ...\n",
      "Globals Loaded\n"
     ]
    }
   ],
   "source": [
    "print('Loading globals ...')\n",
    "\n",
    "import datetime\n",
    "import pandas as pd\n",
    "start_dt=datetime.datetime(2014,1,1)\n",
    "end_dt=datetime.datetime(2018,5,1)\n",
    "from pandas_datareader import data as web\n",
    "\n",
    "from __future__ import division\n",
    "from pandas import Series, DataFrame\n",
    "import pandas as pd\n",
    "from numpy.random import randn\n",
    "import numpy as np\n",
    "pd.options.display.max_rows = 12\n",
    "np.set_printoptions(precision=4, suppress=True)\n",
    "import matplotlib.pyplot as plt\n",
    "plt.rc('figure', figsize=(12, 6))\n",
    "\n",
    "print('Globals Loaded')"
   ]
  },
  {
   "cell_type": "code",
   "execution_count": 3,
   "metadata": {},
   "outputs": [
    {
     "name": "stdout",
     "output_type": "stream",
     "text": [
      "\n",
      "Loading Data\n",
      "5y\n",
      "5y\n",
      "5y\n",
      "5y\n",
      "5y\n",
      "File Has Been Loaded\n"
     ]
    }
   ],
   "source": [
    "print('')\n",
    "print('Loading Data')\n",
    "\n",
    "\n",
    "stock='AMZN'\n",
    "px=pd.DataFrame({'AMZN':web.DataReader(stock,'iex', start_dt, end_dt)['close']})\n",
    "names=['WMT','TGT', 'BBY','COST']\n",
    "for stock in names:\n",
    "    while True:\n",
    "        try:\n",
    "            px[stock]=web.DataReader(stock,'iex', start_dt, end_dt)['close']\n",
    "            break\n",
    "        except:\n",
    "            print('Unable to read stock: {0}'.format(stock))\n",
    "            print('trying again')\n",
    "px.index=pd.to_datetime(px.index)\n",
    "\n",
    "print('File Has Been Loaded')"
   ]
  },
  {
   "cell_type": "code",
   "execution_count": 4,
   "metadata": {
    "collapsed": true
   },
   "outputs": [],
   "source": [
    "px = px.asfreq('B').fillna(method='pad')"
   ]
  },
  {
   "cell_type": "code",
   "execution_count": 5,
   "metadata": {
    "scrolled": true
   },
   "outputs": [
    {
     "data": {
      "text/html": [
       "<div>\n",
       "<style>\n",
       "    .dataframe thead tr:only-child th {\n",
       "        text-align: right;\n",
       "    }\n",
       "\n",
       "    .dataframe thead th {\n",
       "        text-align: left;\n",
       "    }\n",
       "\n",
       "    .dataframe tbody tr th {\n",
       "        vertical-align: top;\n",
       "    }\n",
       "</style>\n",
       "<table border=\"1\" class=\"dataframe\">\n",
       "  <thead>\n",
       "    <tr style=\"text-align: right;\">\n",
       "      <th></th>\n",
       "      <th>AMZN</th>\n",
       "      <th>WMT</th>\n",
       "      <th>TGT</th>\n",
       "      <th>BBY</th>\n",
       "      <th>COST</th>\n",
       "    </tr>\n",
       "    <tr>\n",
       "      <th>date</th>\n",
       "      <th></th>\n",
       "      <th></th>\n",
       "      <th></th>\n",
       "      <th></th>\n",
       "      <th></th>\n",
       "    </tr>\n",
       "  </thead>\n",
       "  <tbody>\n",
       "    <tr>\n",
       "      <th>2014-01-02</th>\n",
       "      <td>397.97</td>\n",
       "      <td>69.7200</td>\n",
       "      <td>54.3549</td>\n",
       "      <td>35.2887</td>\n",
       "      <td>104.1963</td>\n",
       "    </tr>\n",
       "    <tr>\n",
       "      <th>2014-01-03</th>\n",
       "      <td>396.44</td>\n",
       "      <td>69.4903</td>\n",
       "      <td>54.6216</td>\n",
       "      <td>35.4455</td>\n",
       "      <td>103.7364</td>\n",
       "    </tr>\n",
       "    <tr>\n",
       "      <th>2014-01-06</th>\n",
       "      <td>393.63</td>\n",
       "      <td>69.1015</td>\n",
       "      <td>54.2517</td>\n",
       "      <td>34.3389</td>\n",
       "      <td>102.9492</td>\n",
       "    </tr>\n",
       "    <tr>\n",
       "      <th>2014-01-07</th>\n",
       "      <td>398.03</td>\n",
       "      <td>69.3135</td>\n",
       "      <td>54.1226</td>\n",
       "      <td>33.4415</td>\n",
       "      <td>102.4716</td>\n",
       "    </tr>\n",
       "    <tr>\n",
       "      <th>2014-01-08</th>\n",
       "      <td>401.92</td>\n",
       "      <td>68.7658</td>\n",
       "      <td>53.9334</td>\n",
       "      <td>32.9709</td>\n",
       "      <td>100.8708</td>\n",
       "    </tr>\n",
       "    <tr>\n",
       "      <th>2014-01-09</th>\n",
       "      <td>401.01</td>\n",
       "      <td>68.9955</td>\n",
       "      <td>54.4926</td>\n",
       "      <td>32.7008</td>\n",
       "      <td>104.8154</td>\n",
       "    </tr>\n",
       "    <tr>\n",
       "      <th>...</th>\n",
       "      <td>...</td>\n",
       "      <td>...</td>\n",
       "      <td>...</td>\n",
       "      <td>...</td>\n",
       "      <td>...</td>\n",
       "    </tr>\n",
       "    <tr>\n",
       "      <th>2018-04-24</th>\n",
       "      <td>1460.09</td>\n",
       "      <td>85.9882</td>\n",
       "      <td>69.9301</td>\n",
       "      <td>73.1700</td>\n",
       "      <td>191.9502</td>\n",
       "    </tr>\n",
       "    <tr>\n",
       "      <th>2018-04-25</th>\n",
       "      <td>1460.17</td>\n",
       "      <td>86.6242</td>\n",
       "      <td>70.5350</td>\n",
       "      <td>74.3800</td>\n",
       "      <td>193.4059</td>\n",
       "    </tr>\n",
       "    <tr>\n",
       "      <th>2018-04-26</th>\n",
       "      <td>1517.96</td>\n",
       "      <td>87.3894</td>\n",
       "      <td>71.2687</td>\n",
       "      <td>75.6200</td>\n",
       "      <td>194.6922</td>\n",
       "    </tr>\n",
       "    <tr>\n",
       "      <th>2018-04-27</th>\n",
       "      <td>1572.62</td>\n",
       "      <td>86.7435</td>\n",
       "      <td>72.2304</td>\n",
       "      <td>77.0400</td>\n",
       "      <td>196.0083</td>\n",
       "    </tr>\n",
       "    <tr>\n",
       "      <th>2018-04-30</th>\n",
       "      <td>1566.13</td>\n",
       "      <td>87.9062</td>\n",
       "      <td>71.9825</td>\n",
       "      <td>76.5300</td>\n",
       "      <td>196.5867</td>\n",
       "    </tr>\n",
       "    <tr>\n",
       "      <th>2018-05-01</th>\n",
       "      <td>1582.26</td>\n",
       "      <td>86.8627</td>\n",
       "      <td>70.4655</td>\n",
       "      <td>75.3800</td>\n",
       "      <td>195.9784</td>\n",
       "    </tr>\n",
       "  </tbody>\n",
       "</table>\n",
       "<p>1129 rows × 5 columns</p>\n",
       "</div>"
      ],
      "text/plain": [
       "               AMZN      WMT      TGT      BBY      COST\n",
       "date                                                    \n",
       "2014-01-02   397.97  69.7200  54.3549  35.2887  104.1963\n",
       "2014-01-03   396.44  69.4903  54.6216  35.4455  103.7364\n",
       "2014-01-06   393.63  69.1015  54.2517  34.3389  102.9492\n",
       "2014-01-07   398.03  69.3135  54.1226  33.4415  102.4716\n",
       "2014-01-08   401.92  68.7658  53.9334  32.9709  100.8708\n",
       "2014-01-09   401.01  68.9955  54.4926  32.7008  104.8154\n",
       "...             ...      ...      ...      ...       ...\n",
       "2018-04-24  1460.09  85.9882  69.9301  73.1700  191.9502\n",
       "2018-04-25  1460.17  86.6242  70.5350  74.3800  193.4059\n",
       "2018-04-26  1517.96  87.3894  71.2687  75.6200  194.6922\n",
       "2018-04-27  1572.62  86.7435  72.2304  77.0400  196.0083\n",
       "2018-04-30  1566.13  87.9062  71.9825  76.5300  196.5867\n",
       "2018-05-01  1582.26  86.8627  70.4655  75.3800  195.9784\n",
       "\n",
       "[1129 rows x 5 columns]"
      ]
     },
     "execution_count": 5,
     "metadata": {},
     "output_type": "execute_result"
    }
   ],
   "source": [
    "px"
   ]
  },
  {
   "cell_type": "code",
   "execution_count": 6,
   "metadata": {
    "collapsed": true
   },
   "outputs": [],
   "source": [
    "plt.close('all')"
   ]
  },
  {
   "cell_type": "code",
   "execution_count": 7,
   "metadata": {},
   "outputs": [
    {
     "name": "stdout",
     "output_type": "stream",
     "text": [
      "<class 'pandas.core.frame.DataFrame'>\n",
      "DatetimeIndex: 1129 entries, 2014-01-02 to 2018-05-01\n",
      "Freq: B\n",
      "Data columns (total 5 columns):\n",
      "AMZN    1129 non-null float64\n",
      "WMT     1129 non-null float64\n",
      "TGT     1129 non-null float64\n",
      "BBY     1129 non-null float64\n",
      "COST    1129 non-null float64\n",
      "dtypes: float64(5)\n",
      "memory usage: 52.9 KB\n"
     ]
    }
   ],
   "source": [
    "px.info()"
   ]
  },
  {
   "cell_type": "code",
   "execution_count": 8,
   "metadata": {},
   "outputs": [
    {
     "data": {
      "text/html": [
       "<div>\n",
       "<style>\n",
       "    .dataframe thead tr:only-child th {\n",
       "        text-align: right;\n",
       "    }\n",
       "\n",
       "    .dataframe thead th {\n",
       "        text-align: left;\n",
       "    }\n",
       "\n",
       "    .dataframe tbody tr th {\n",
       "        vertical-align: top;\n",
       "    }\n",
       "</style>\n",
       "<table border=\"1\" class=\"dataframe\">\n",
       "  <thead>\n",
       "    <tr style=\"text-align: right;\">\n",
       "      <th></th>\n",
       "      <th>AMZN</th>\n",
       "      <th>WMT</th>\n",
       "      <th>TGT</th>\n",
       "      <th>BBY</th>\n",
       "      <th>COST</th>\n",
       "    </tr>\n",
       "  </thead>\n",
       "  <tbody>\n",
       "    <tr>\n",
       "      <th>count</th>\n",
       "      <td>1129.000000</td>\n",
       "      <td>1129.000000</td>\n",
       "      <td>1129.000000</td>\n",
       "      <td>1129.000000</td>\n",
       "      <td>1129.000000</td>\n",
       "    </tr>\n",
       "    <tr>\n",
       "      <th>mean</th>\n",
       "      <td>682.026531</td>\n",
       "      <td>71.334432</td>\n",
       "      <td>62.903220</td>\n",
       "      <td>38.886397</td>\n",
       "      <td>142.247549</td>\n",
       "    </tr>\n",
       "    <tr>\n",
       "      <th>std</th>\n",
       "      <td>330.487770</td>\n",
       "      <td>10.171675</td>\n",
       "      <td>8.480836</td>\n",
       "      <td>14.262027</td>\n",
       "      <td>24.653175</td>\n",
       "    </tr>\n",
       "    <tr>\n",
       "      <th>min</th>\n",
       "      <td>286.950000</td>\n",
       "      <td>52.082500</td>\n",
       "      <td>47.377700</td>\n",
       "      <td>19.796500</td>\n",
       "      <td>97.448000</td>\n",
       "    </tr>\n",
       "    <tr>\n",
       "      <th>25%</th>\n",
       "      <td>374.410000</td>\n",
       "      <td>66.000300</td>\n",
       "      <td>53.886800</td>\n",
       "      <td>29.100000</td>\n",
       "      <td>128.146200</td>\n",
       "    </tr>\n",
       "    <tr>\n",
       "      <th>50%</th>\n",
       "      <td>640.950000</td>\n",
       "      <td>68.661900</td>\n",
       "      <td>64.416100</td>\n",
       "      <td>32.970900</td>\n",
       "      <td>142.184300</td>\n",
       "    </tr>\n",
       "    <tr>\n",
       "      <th>75%</th>\n",
       "      <td>884.670000</td>\n",
       "      <td>76.012900</td>\n",
       "      <td>70.376300</td>\n",
       "      <td>47.165500</td>\n",
       "      <td>157.374700</td>\n",
       "    </tr>\n",
       "    <tr>\n",
       "      <th>max</th>\n",
       "      <td>1598.390000</td>\n",
       "      <td>108.218900</td>\n",
       "      <td>77.347700</td>\n",
       "      <td>77.558500</td>\n",
       "      <td>197.802200</td>\n",
       "    </tr>\n",
       "  </tbody>\n",
       "</table>\n",
       "</div>"
      ],
      "text/plain": [
       "              AMZN          WMT          TGT          BBY         COST\n",
       "count  1129.000000  1129.000000  1129.000000  1129.000000  1129.000000\n",
       "mean    682.026531    71.334432    62.903220    38.886397   142.247549\n",
       "std     330.487770    10.171675     8.480836    14.262027    24.653175\n",
       "min     286.950000    52.082500    47.377700    19.796500    97.448000\n",
       "25%     374.410000    66.000300    53.886800    29.100000   128.146200\n",
       "50%     640.950000    68.661900    64.416100    32.970900   142.184300\n",
       "75%     884.670000    76.012900    70.376300    47.165500   157.374700\n",
       "max    1598.390000   108.218900    77.347700    77.558500   197.802200"
      ]
     },
     "execution_count": 8,
     "metadata": {},
     "output_type": "execute_result"
    }
   ],
   "source": [
    "px.describe()"
   ]
  },
  {
   "cell_type": "code",
   "execution_count": 9,
   "metadata": {},
   "outputs": [
    {
     "data": {
      "image/png": "[encoded data removed]",
      "text/plain": [
       "<matplotlib.figure.Figure at 0x1643ed808d0>"
      ]
     },
     "metadata": {},
     "output_type": "display_data"
    }
   ],
   "source": [
    "px = px.asfreq('B').fillna(method='pad')\n",
    "rets = px.pct_change()\n",
    "((1 + rets).cumprod() - 1).plot()\n",
    "plt.show()"
   ]
  },
  {
   "cell_type": "code",
   "execution_count": 10,
   "metadata": {
    "collapsed": true
   },
   "outputs": [],
   "source": [
    "def calc_mom(price, lookback, lag):\n",
    "    mom_ret = price.shift(lag).pct_change(lookback)\n",
    "    ranks = mom_ret.rank(axis=1, ascending=False)\n",
    "    demeaned = ranks.subtract(ranks.mean(axis=1), axis=0)\n",
    "    return demeaned.divide(demeaned.std(axis=1), axis=0)"
   ]
  },
  {
   "cell_type": "code",
   "execution_count": 11,
   "metadata": {
    "collapsed": true
   },
   "outputs": [],
   "source": [
    "compound = lambda x : (1 + x).prod() - 1\n",
    "daily_sr = lambda x: x.mean() / x.std()\n",
    "\n",
    "def strat_sr(prices, lb, hold):\n",
    "    # Compute portfolio weights\n",
    "    freq = '%dB' % hold\n",
    "    port = calc_mom(prices, lb, lag=1)\n",
    "\n",
    "    daily_rets = prices.pct_change()\n",
    "\n",
    "    # Compute portfolio returns\n",
    "    port = port.shift(1).resample(freq, how='first')\n",
    "    returns = daily_rets.resample(freq, how=compound)\n",
    "    port_rets = (port * returns).sum(axis=1)\n",
    "\n",
    "    return daily_sr(port_rets) * np.sqrt(252 / hold)"
   ]
  },
  {
   "cell_type": "code",
   "execution_count": 12,
   "metadata": {},
   "outputs": [
    {
     "name": "stderr",
     "output_type": "stream",
     "text": [
      "C:\\Users\\JZW847\\AppData\\Local\\Continuum\\anaconda3\\lib\\site-packages\\ipykernel_launcher.py:12: FutureWarning: how in .resample() is deprecated\n",
      "the new syntax is .resample(...).first()\n",
      "  if sys.path[0] == '':\n",
      "C:\\Users\\JZW847\\AppData\\Local\\Continuum\\anaconda3\\lib\\site-packages\\ipykernel_launcher.py:13: FutureWarning: how in .resample() is deprecated\n",
      "the new syntax is .resample(...)..apply(<func>)\n",
      "  del sys.path[0]\n"
     ]
    },
    {
     "data": {
      "text/plain": [
       "0.04269034571366383"
      ]
     },
     "execution_count": 12,
     "metadata": {},
     "output_type": "execute_result"
    }
   ],
   "source": [
    "strat_sr(px, 70, 30)"
   ]
  },
  {
   "cell_type": "code",
   "execution_count": 13,
   "metadata": {},
   "outputs": [
    {
     "name": "stderr",
     "output_type": "stream",
     "text": [
      "C:\\Users\\JZW847\\AppData\\Local\\Continuum\\anaconda3\\lib\\site-packages\\ipykernel_launcher.py:12: FutureWarning: how in .resample() is deprecated\n",
      "the new syntax is .resample(...).first()\n",
      "  if sys.path[0] == '':\n",
      "C:\\Users\\JZW847\\AppData\\Local\\Continuum\\anaconda3\\lib\\site-packages\\ipykernel_launcher.py:13: FutureWarning: how in .resample() is deprecated\n",
      "the new syntax is .resample(...)..apply(<func>)\n",
      "  del sys.path[0]\n"
     ]
    }
   ],
   "source": [
    "from collections import defaultdict\n",
    "\n",
    "lookbacks = range(20, 90, 5)\n",
    "holdings = range(20, 90, 5)\n",
    "dd = defaultdict(dict)\n",
    "for lb in lookbacks:\n",
    "    for hold in holdings:\n",
    "        dd[lb][hold] = strat_sr(px, lb, hold)\n",
    "\n",
    "ddf = DataFrame(dd)\n",
    "ddf.index.name = 'Holding Period'\n",
    "ddf.columns.name = 'Lookback Period'"
   ]
  },
  {
   "cell_type": "code",
   "execution_count": 14,
   "metadata": {
    "collapsed": true
   },
   "outputs": [],
   "source": [
    "import matplotlib.pyplot as plt\n",
    "\n",
    "def heatmap(df, cmap=plt.cm.gray_r):\n",
    "    fig = plt.figure()\n",
    "    ax = fig.add_subplot(111)\n",
    "    axim = ax.imshow(df.values, cmap=cmap, interpolation='nearest')\n",
    "    ax.set_xlabel(df.columns.name)\n",
    "    ax.set_xticks(np.arange(len(df.columns)))\n",
    "    ax.set_xticklabels(list(df.columns))\n",
    "    ax.set_ylabel(df.index.name)\n",
    "    ax.set_yticks(np.arange(len(df.index)))\n",
    "    ax.set_yticklabels(list(df.index))\n",
    "    plt.colorbar(axim)"
   ]
  },
  {
   "cell_type": "code",
   "execution_count": 15,
   "metadata": {},
   "outputs": [
    {
     "data": {
      "image/png": "[encoded data removed]",
      "text/plain": [
       "<matplotlib.figure.Figure at 0x1644a299748>"
      ]
     },
     "metadata": {},
     "output_type": "display_data"
    }
   ],
   "source": [
    "heatmap(ddf)\n",
    "plt.show()"
   ]
  },
  {
   "cell_type": "markdown",
   "metadata": {},
   "source": [
    "## Abstract"
   ]
  },
  {
   "cell_type": "markdown",
   "metadata": {},
   "source": [
    "## Introduction"
   ]
  },
  {
   "cell_type": "markdown",
   "metadata": {},
   "source": [
    "## Literature Review"
   ]
  },
  {
   "cell_type": "markdown",
   "metadata": {},
   "source": [
    "## Background "
   ]
  },
  {
   "cell_type": "markdown",
   "metadata": {},
   "source": [
    "<font font-family= \"Ariel\"> The stock market volumes dataset contains 1,129 observations and 6 variables. There is no missing data for any of the variables in these 1,129 observations. Our objective is to analyze the historical daily adjusted closing stock prices for 5 major retail companies for the 4.5-year span between January 2nd, 2014 and May 1st, 2018. A full list of variable descriptions, including the Datetime variable in which the observation was captured and the data is indexed by, can be found in Table 1: </font>"
   ]
  },
  {
   "cell_type": "markdown",
   "metadata": {
    "caption": "Variable Desscriptions",
    "label": "Table 1:Variable Descriptions",
    "widefigure": true
   },
   "source": [
    "|    Variable   |                                         Description                                         |    Type    |\n",
    "|:-------------:|:-------------------------------------------------------------------------------------------:|:----------:|\n",
    "| DatetimeIndex | Date observation was collected. (Index of data)                                             |    Date    |\n",
    "| AMZN          | Amazon.com, Inc. adjusted close price adjusted for both dividends and   splits.             | Continuous |\n",
    "| WMT           | Walmart Inc. adjusted close price adjusted for both dividends and splits.                   | Continuous |\n",
    "| TGT           | Target Corporation adjusted close price adjusted for both dividends and   splits.           | Continuous |\n",
    "| BBY           | Best Buy Co., Inc. adjusted close price adjusted for both dividends and   splits.           | Continuous |\n",
    "| COST          | Costco Wholesale Corporation adjusted close price adjusted for both   dividends and splits. | Continuous |"
   ]
  },
  {
   "cell_type": "markdown",
   "metadata": {},
   "source": [
    "## Methods"
   ]
  },
  {
   "cell_type": "markdown",
   "metadata": {},
   "source": [
    "## Results"
   ]
  },
  {
   "cell_type": "markdown",
   "metadata": {},
   "source": [
    "## Future Work, Discussion Conclusions, and Next Steps"
   ]
  },
  {
   "cell_type": "markdown",
   "metadata": {},
   "source": [
    "## References"
   ]
  },
  {
   "cell_type": "markdown",
   "metadata": {},
   "source": [
    "## Appendix - Code"
   ]
  },
  {
   "cell_type": "code",
   "execution_count": null,
   "metadata": {
    "collapsed": true
   },
   "outputs": [],
   "source": []
  }
 ],
 "metadata": {
  "anaconda-cloud": {},
  "celltoolbar": "Edit Metadata",
  "kernelspec": {
   "display_name": "Python 3",
   "language": "python",
   "name": "python3"
  },
  "language_info": {
   "codemirror_mode": {
    "name": "ipython",
    "version": 3
   },
   "file_extension": ".py",
   "mimetype": "text/x-python",
   "name": "python",
   "nbconvert_exporter": "python",
   "pygments_lexer": "ipython3",
   "version": "3.6.3"
  }
 },
 "nbformat": 4,
 "nbformat_minor": 1
}
