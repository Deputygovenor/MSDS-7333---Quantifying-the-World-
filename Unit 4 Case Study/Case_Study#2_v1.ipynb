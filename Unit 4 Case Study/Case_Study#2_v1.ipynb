{
 "cells": [
  {
   "cell_type": "markdown",
   "metadata": {
    "collapsed": true
   },
   "source": [
    "# REMOVE BEFORE TURNING THIS IN!!!!!!! - Instructions"
   ]
  },
  {
   "cell_type": "raw",
   "metadata": {},
   "source": [
    "Unit 4: Case Study\n",
    "Assignments and Grading\n",
    "Assignment: Financial Applications of Time Series\n",
    "\t� Choose either the Signal Frontier Analysis application or Future Contract Rolling application.\n",
    "\t� Use different stocks than those shown in examples.\n",
    "\t� Create iPython Notebook, including code, output, and graphics.\n",
    "\t� Include an introduction in your notebook to give background on your application.\n",
    "\t� Be sure to explain calculations and output in the appropriate places.\n",
    "\t� List outside references if used.\n",
    "    \n",
    "\n",
    "Case study write-ups are to be �technical report ready,� which basically means that the write-up is suitable for public viewing.\n",
    "\t� Your name must be at the beginning of the notebook.\n",
    "\t� The notebook should divided into an abstract, an introduction, a methods section, a results section, and a future work/discussion/conclusion section.\n",
    "\t� Use an easy-to-read variable-width font (I like Ariel, Helvetica, and Geneva font) with a minimum of 11 point font.\n",
    "\t� Relevant code and output must be explained in the notebook as close to the code/output as possible.\n",
    "\t� Any graphics generated using the code must be explained in the notebook as close to the graphic as possible.\n",
    "    \n",
    "    \n",
    "Upload Instructions\n",
    "\t� Save your notebook. The filename should include your first initial and last name and \"_Case Study Title\" (e.g., JDoe_week4casestudy).\n",
    "\t� Click the Submissions tab above.\n",
    "\t� Click Upload and follow the steps to attach your document.\n",
    "\t� You also have the option to upload the iPython document to GitHub or Dropbox and submit a link to the document.\n",
    "\n",
    "From <https://2ds.datascience.smu.edu/mod/assignment/view.php?id=18371"
   ]
  },
  {
   "cell_type": "markdown",
   "metadata": {},
   "source": [
    "<h1><center>Financial Applications of Time Series</center></h1>\n",
    "<center> David Tran, Frank Sclafani, Matthew Przybyla, and Brandon Hill</center>\n",
    "<center> MSDS 7333 - Quantifying the World - Case Study 4 (Unit 4)</center>\n",
    "<center> June 5, 2018</center>"
   ]
  },
  {
   "cell_type": "markdown",
   "metadata": {},
   "source": [
    "# Notebook Navigation\n",
    "\n",
    "[1) Abstract](#Abstract) \n",
    "\n",
    "[2) Introduction](#Introduction)\n",
    "\n",
    "[3) Methods](#Methods) \n",
    "\n",
    "[4) Results](#Results) \n",
    "\n",
    "[5) Future Work, Discussion Conclusions, and Next Steps](#Future Work, Discussion Conclusions, and Next Steps) \n",
    "\n",
    "[6) References](#References) "
   ]
  },
  {
   "cell_type": "markdown",
   "metadata": {},
   "source": [
    "## Abstract"
   ]
  },
  {
   "cell_type": "markdown",
   "metadata": {},
   "source": [
    "- Using Python libraries to handle financial time series data:\n",
    "* One of the most time-consuming issues in working with financial data is the so-called data alignment problem. (pg.330)\n",
    "    * Two related time series may have indexes that don't line up perfectly, or two DataFrame objects might have columns or row labels that don't match.\n",
    "    * pandas take an alternate approach by automatically aligning data in arithmetic operations.\n",
    "* In this section, I'll describe a simplified cross-sectional momentum portfolio and show how you might explore a grid of model parameterizations. First, I'll load historical prices for a portfolio of financial and technology stocks: (pg.345)\n",
    "    * Cummaltive returns\n",
    "    * momentum\n",
    "* Rolling Correlation and Linear Regression (pg. 350)\n",
    "    \n"
   ]
  },
  {
   "cell_type": "markdown",
   "metadata": {},
   "source": [
    "## Introduction"
   ]
  },
  {
   "cell_type": "markdown",
   "metadata": {},
   "source": [
    "Financial instituions or FIs, such as banks and traders, heavily rely on financial modeling and forecasting in order to create a portfolio or risk recommendations to their clients. The performance and research by financial institutions are limited by their headcount and resources. The data science fields has different models and algorithms that can handle large amounts of financial data and analyze it in order for trend and predictive analysis. For our analysis, we have chosen the Signal Frontier Analysis method. \n",
    "\n",
    "The method consist of a simplified cross-sectional momentum portfolio and shows how someone would explore a grid of model parameterizations. The financial stock data came from a Yahoo Finance API. The stocks that were chosen are: Amazon (AMZN), Walmart (WMT), Target (TGT), Best Buy (BBY), and Costco (COST). All of these companies are in the retail industry, such as consumer goods, retail, or electronics. \n",
    "\n",
    "The data range of the data set is from January 1, 2013 to May 1, 2018. The analysis will be based off of its daily closing price. The analysis will allow to understand and create insight of different trends, correlations, and findings. All of the findings will be explained in the Results down below. "
   ]
  },
  {
   "cell_type": "markdown",
   "metadata": {},
   "source": [
    "## Background "
   ]
  },
  {
   "cell_type": "markdown",
   "metadata": {},
   "source": [
    "<font font-family= \"Ariel\"> The stock market volumes dataset was collected via the Yahoo Finance API. It contains 1,129 observations and 6 variables. There is no missing data for any of the variables in these 1,129 observations. Our objective is to analyze the historical daily adjusted closing stock prices for 5 major retail companies for the 4.5-year span between June 4th, 2013 and May 1st, 2018. A full list of variable descriptions, including the Datetime variable in which the observation was captured and the data is indexed by, can be found in Table 1: </font>"
   ]
  },
  {
   "cell_type": "markdown",
   "metadata": {
    "caption": "Variable Desscriptions",
    "label": "Table 1:Variable Descriptions",
    "widefigure": true
   },
   "source": [
    "|    Variable   |                                         Description                                         |    Type    |\n",
    "|:-------------:|:-------------------------------------------------------------------------------------------:|:----------:|\n",
    "| DatetimeIndex | Date observation was collected. (Index of data)                                             |  Ordinal   |\n",
    "| AMZN          | Amazon.com, Inc. close price for both dividends and.             | Continuous |\n",
    "| WMT           | Walmart Inc. close price for both dividends.                   | Continuous |\n",
    "| TGT           | Target Corporation close price for both dividends.           | Continuous |\n",
    "| BBY           | Best Buy Co., Inc. close price for both dividends.           | Continuous |\n",
    "| COST          | Costco Wholesale Corporation close price for both   dividends. | Continuous |"
   ]
  },
  {
   "cell_type": "markdown",
   "metadata": {},
   "source": [
    "## Methods - Signal Frontier Analysis"
   ]
  },
  {
   "cell_type": "code",
   "execution_count": 1,
   "metadata": {
    "scrolled": true
   },
   "outputs": [
    {
     "data": {
      "text/html": [
       "\n",
       "<style>\n",
       "    div#notebook-container    { width: 95%; }\n",
       "    div#menubar-container     { width: 65%; }\n",
       "    div#maintoolbar-container { width: 99%; }\n",
       "</style>\n"
      ],
      "text/plain": [
       "<IPython.core.display.HTML object>"
      ]
     },
     "metadata": {},
     "output_type": "display_data"
    }
   ],
   "source": [
    "# This cell just tells the notebook to set the width of the cells in relation to the screen width\n",
    "from IPython.display import display, HTML\n",
    "display(HTML(data=\"\"\"\n",
    "<style>\n",
    "    div#notebook-container    { width: 95%; }\n",
    "    div#menubar-container     { width: 65%; }\n",
    "    div#maintoolbar-container { width: 99%; }\n",
    "</style>\n",
    "\"\"\"))"
   ]
  },
  {
   "cell_type": "code",
   "execution_count": 6,
   "metadata": {
    "scrolled": true
   },
   "outputs": [
    {
     "name": "stdout",
     "output_type": "stream",
     "text": [
      "Loading globals ...\n",
      "Globals Loaded\n"
     ]
    }
   ],
   "source": [
    "print('Loading globals ...')\n",
    "\n",
    "import datetime\n",
    "import pandas as pd\n",
    "start_dt=datetime.datetime(2013,1,1)\n",
    "end_dt=datetime.datetime(2018,5,1)\n",
    "from pandas_datareader import data as web\n",
    "\n",
    "from __future__ import division\n",
    "from pandas import Series, DataFrame\n",
    "import pandas as pd\n",
    "from numpy.random import randn\n",
    "import numpy as np\n",
    "pd.options.display.max_rows = 12\n",
    "np.set_printoptions(precision=4, suppress=True)\n",
    "import matplotlib.pyplot as plt\n",
    "plt.rc('figure', figsize=(12, 6))\n",
    "\n",
    "print('Globals Loaded')"
   ]
  },
  {
   "cell_type": "code",
   "execution_count": 17,
   "metadata": {},
   "outputs": [
    {
     "name": "stdout",
     "output_type": "stream",
     "text": [
      "\n",
      "Loading Data\n",
      "5y\n",
      "5y\n",
      "5y\n",
      "5y\n",
      "5y\n",
      "File Has Been Loaded\n"
     ]
    }
   ],
   "source": [
    "print('')\n",
    "print('Loading Data')\n",
    "\n",
    "\n",
    "stock='AMZN'\n",
    "px=pd.DataFrame({'AMZN':web.DataReader(stock,'iex', start_dt, end_dt)['close']})\n",
    "names=['WMT','TGT', 'BBY','COST']\n",
    "for stock in names:\n",
    "    while True:\n",
    "        try:\n",
    "            px[stock]=web.DataReader(stock,'iex', start_dt, end_dt)['close']\n",
    "            break\n",
    "        except:\n",
    "            print('Unable to read stock: {0}'.format(stock))\n",
    "            print('trying again')\n",
    "px.index=pd.to_datetime(px.index)\n",
    "\n",
    "print('File Has Been Loaded')"
   ]
  },
  {
   "cell_type": "markdown",
   "metadata": {},
   "source": [
    "http://pandasguide.readthedocs.io/en/latest/Pandas/timeseries.html\n",
    "\n",
    "A series of time can be generated using �date_range� command. In below code, �periods� is the total number of samples; whereas freq = �M� represents that series must be generated based on �Month�.\n",
    "\n",
    "By default, pandas consider �M� as end of the month. Use �MS� for start of the month. Similarly, other options are also available for day (�D�), business days (�B�) and hours (�H�) etc."
   ]
  },
  {
   "cell_type": "code",
   "execution_count": 19,
   "metadata": {
    "collapsed": true
   },
   "outputs": [],
   "source": [
    "px = px.asfreq('B').fillna(method='pad')"
   ]
  },
  {
   "cell_type": "code",
   "execution_count": 18,
   "metadata": {
    "scrolled": true
   },
   "outputs": [
    {
     "data": {
      "text/html": [
       "<div>\n",
       "<style>\n",
       "    .dataframe thead tr:only-child th {\n",
       "        text-align: right;\n",
       "    }\n",
       "\n",
       "    .dataframe thead th {\n",
       "        text-align: left;\n",
       "    }\n",
       "\n",
       "    .dataframe tbody tr th {\n",
       "        vertical-align: top;\n",
       "    }\n",
       "</style>\n",
       "<table border=\"1\" class=\"dataframe\">\n",
       "  <thead>\n",
       "    <tr style=\"text-align: right;\">\n",
       "      <th></th>\n",
       "      <th>AMZN</th>\n",
       "      <th>WMT</th>\n",
       "      <th>TGT</th>\n",
       "      <th>BBY</th>\n",
       "      <th>COST</th>\n",
       "    </tr>\n",
       "    <tr>\n",
       "      <th>date</th>\n",
       "      <th></th>\n",
       "      <th></th>\n",
       "      <th></th>\n",
       "      <th></th>\n",
       "      <th></th>\n",
       "    </tr>\n",
       "  </thead>\n",
       "  <tbody>\n",
       "    <tr>\n",
       "      <th>2013-06-04</th>\n",
       "      <td>265.70</td>\n",
       "      <td>66.3049</td>\n",
       "      <td>60.7427</td>\n",
       "      <td>23.5235</td>\n",
       "      <td>97.3715</td>\n",
       "    </tr>\n",
       "    <tr>\n",
       "      <th>2013-06-05</th>\n",
       "      <td>267.17</td>\n",
       "      <td>65.7025</td>\n",
       "      <td>59.6044</td>\n",
       "      <td>23.2574</td>\n",
       "      <td>96.0604</td>\n",
       "    </tr>\n",
       "    <tr>\n",
       "      <th>2013-06-06</th>\n",
       "      <td>267.83</td>\n",
       "      <td>66.0343</td>\n",
       "      <td>59.6809</td>\n",
       "      <td>23.7639</td>\n",
       "      <td>97.7498</td>\n",
       "    </tr>\n",
       "    <tr>\n",
       "      <th>2013-06-07</th>\n",
       "      <td>276.87</td>\n",
       "      <td>66.6455</td>\n",
       "      <td>59.7658</td>\n",
       "      <td>23.6344</td>\n",
       "      <td>97.3011</td>\n",
       "    </tr>\n",
       "    <tr>\n",
       "      <th>2013-06-10</th>\n",
       "      <td>281.07</td>\n",
       "      <td>66.1390</td>\n",
       "      <td>59.3581</td>\n",
       "      <td>24.2218</td>\n",
       "      <td>97.0635</td>\n",
       "    </tr>\n",
       "    <tr>\n",
       "      <th>2013-06-11</th>\n",
       "      <td>274.78</td>\n",
       "      <td>65.7025</td>\n",
       "      <td>59.4600</td>\n",
       "      <td>24.0922</td>\n",
       "      <td>96.8083</td>\n",
       "    </tr>\n",
       "    <tr>\n",
       "      <th>...</th>\n",
       "      <td>...</td>\n",
       "      <td>...</td>\n",
       "      <td>...</td>\n",
       "      <td>...</td>\n",
       "      <td>...</td>\n",
       "    </tr>\n",
       "    <tr>\n",
       "      <th>2018-04-24</th>\n",
       "      <td>1460.09</td>\n",
       "      <td>85.9882</td>\n",
       "      <td>69.9301</td>\n",
       "      <td>73.1700</td>\n",
       "      <td>191.9502</td>\n",
       "    </tr>\n",
       "    <tr>\n",
       "      <th>2018-04-25</th>\n",
       "      <td>1460.17</td>\n",
       "      <td>86.6242</td>\n",
       "      <td>70.5350</td>\n",
       "      <td>74.3800</td>\n",
       "      <td>193.4059</td>\n",
       "    </tr>\n",
       "    <tr>\n",
       "      <th>2018-04-26</th>\n",
       "      <td>1517.96</td>\n",
       "      <td>87.3894</td>\n",
       "      <td>71.2687</td>\n",
       "      <td>75.6200</td>\n",
       "      <td>194.6922</td>\n",
       "    </tr>\n",
       "    <tr>\n",
       "      <th>2018-04-27</th>\n",
       "      <td>1572.62</td>\n",
       "      <td>86.7435</td>\n",
       "      <td>72.2304</td>\n",
       "      <td>77.0400</td>\n",
       "      <td>196.0083</td>\n",
       "    </tr>\n",
       "    <tr>\n",
       "      <th>2018-04-30</th>\n",
       "      <td>1566.13</td>\n",
       "      <td>87.9062</td>\n",
       "      <td>71.9825</td>\n",
       "      <td>76.5300</td>\n",
       "      <td>196.5867</td>\n",
       "    </tr>\n",
       "    <tr>\n",
       "      <th>2018-05-01</th>\n",
       "      <td>1582.26</td>\n",
       "      <td>86.8627</td>\n",
       "      <td>70.4655</td>\n",
       "      <td>75.3800</td>\n",
       "      <td>195.9784</td>\n",
       "    </tr>\n",
       "  </tbody>\n",
       "</table>\n",
       "<p>1237 rows � 5 columns</p>\n",
       "</div>"
      ],
      "text/plain": [
       "               AMZN      WMT      TGT      BBY      COST\n",
       "date                                                    \n",
       "2013-06-04   265.70  66.3049  60.7427  23.5235   97.3715\n",
       "2013-06-05   267.17  65.7025  59.6044  23.2574   96.0604\n",
       "2013-06-06   267.83  66.0343  59.6809  23.7639   97.7498\n",
       "2013-06-07   276.87  66.6455  59.7658  23.6344   97.3011\n",
       "2013-06-10   281.07  66.1390  59.3581  24.2218   97.0635\n",
       "2013-06-11   274.78  65.7025  59.4600  24.0922   96.8083\n",
       "...             ...      ...      ...      ...       ...\n",
       "2018-04-24  1460.09  85.9882  69.9301  73.1700  191.9502\n",
       "2018-04-25  1460.17  86.6242  70.5350  74.3800  193.4059\n",
       "2018-04-26  1517.96  87.3894  71.2687  75.6200  194.6922\n",
       "2018-04-27  1572.62  86.7435  72.2304  77.0400  196.0083\n",
       "2018-04-30  1566.13  87.9062  71.9825  76.5300  196.5867\n",
       "2018-05-01  1582.26  86.8627  70.4655  75.3800  195.9784\n",
       "\n",
       "[1237 rows x 5 columns]"
      ]
     },
     "execution_count": 18,
     "metadata": {},
     "output_type": "execute_result"
    }
   ],
   "source": [
    "px"
   ]
  },
  {
   "cell_type": "code",
   "execution_count": 10,
   "metadata": {
    "collapsed": true
   },
   "outputs": [],
   "source": [
    "plt.close('all')"
   ]
  },
  {
   "cell_type": "code",
   "execution_count": 11,
   "metadata": {},
   "outputs": [
    {
     "name": "stdout",
     "output_type": "stream",
     "text": [
      "<class 'pandas.core.frame.DataFrame'>\n",
      "DatetimeIndex: 1281 entries, 2013-06-04 to 2018-05-01\n",
      "Freq: B\n",
      "Data columns (total 5 columns):\n",
      "AMZN    1281 non-null float64\n",
      "WMT     1281 non-null float64\n",
      "TGT     1281 non-null float64\n",
      "BBY     1281 non-null float64\n",
      "COST    1281 non-null float64\n",
      "dtypes: float64(5)\n",
      "memory usage: 60.0 KB\n"
     ]
    }
   ],
   "source": [
    "px.info()"
   ]
  },
  {
   "cell_type": "code",
   "execution_count": 12,
   "metadata": {},
   "outputs": [
    {
     "data": {
      "text/html": [
       "<div>\n",
       "<style>\n",
       "    .dataframe thead tr:only-child th {\n",
       "        text-align: right;\n",
       "    }\n",
       "\n",
       "    .dataframe thead th {\n",
       "        text-align: left;\n",
       "    }\n",
       "\n",
       "    .dataframe tbody tr th {\n",
       "        vertical-align: top;\n",
       "    }\n",
       "</style>\n",
       "<table border=\"1\" class=\"dataframe\">\n",
       "  <thead>\n",
       "    <tr style=\"text-align: right;\">\n",
       "      <th></th>\n",
       "      <th>AMZN</th>\n",
       "      <th>WMT</th>\n",
       "      <th>TGT</th>\n",
       "      <th>BBY</th>\n",
       "      <th>COST</th>\n",
       "    </tr>\n",
       "  </thead>\n",
       "  <tbody>\n",
       "    <tr>\n",
       "      <th>count</th>\n",
       "      <td>1281.000000</td>\n",
       "      <td>1281.000000</td>\n",
       "      <td>1281.000000</td>\n",
       "      <td>1281.000000</td>\n",
       "      <td>1281.000000</td>\n",
       "    </tr>\n",
       "    <tr>\n",
       "      <th>mean</th>\n",
       "      <td>639.395592</td>\n",
       "      <td>70.822293</td>\n",
       "      <td>62.165893</td>\n",
       "      <td>37.963498</td>\n",
       "      <td>137.571045</td>\n",
       "    </tr>\n",
       "    <tr>\n",
       "      <th>std</th>\n",
       "      <td>331.607050</td>\n",
       "      <td>9.676568</td>\n",
       "      <td>8.265301</td>\n",
       "      <td>13.729333</td>\n",
       "      <td>26.457287</td>\n",
       "    </tr>\n",
       "    <tr>\n",
       "      <th>min</th>\n",
       "      <td>265.700000</td>\n",
       "      <td>52.082500</td>\n",
       "      <td>47.377700</td>\n",
       "      <td>19.796500</td>\n",
       "      <td>94.643700</td>\n",
       "    </tr>\n",
       "    <tr>\n",
       "      <th>25%</th>\n",
       "      <td>347.380000</td>\n",
       "      <td>65.808500</td>\n",
       "      <td>54.183900</td>\n",
       "      <td>28.834700</td>\n",
       "      <td>109.701700</td>\n",
       "    </tr>\n",
       "    <tr>\n",
       "      <th>50%</th>\n",
       "      <td>559.440000</td>\n",
       "      <td>68.364600</td>\n",
       "      <td>63.108100</td>\n",
       "      <td>32.905600</td>\n",
       "      <td>139.592900</td>\n",
       "    </tr>\n",
       "    <tr>\n",
       "      <th>75%</th>\n",
       "      <td>839.150000</td>\n",
       "      <td>74.273700</td>\n",
       "      <td>69.566100</td>\n",
       "      <td>43.850500</td>\n",
       "      <td>155.908800</td>\n",
       "    </tr>\n",
       "    <tr>\n",
       "      <th>max</th>\n",
       "      <td>1598.390000</td>\n",
       "      <td>108.218900</td>\n",
       "      <td>77.347700</td>\n",
       "      <td>77.558500</td>\n",
       "      <td>197.802200</td>\n",
       "    </tr>\n",
       "  </tbody>\n",
       "</table>\n",
       "</div>"
      ],
      "text/plain": [
       "              AMZN          WMT          TGT          BBY         COST\n",
       "count  1281.000000  1281.000000  1281.000000  1281.000000  1281.000000\n",
       "mean    639.395592    70.822293    62.165893    37.963498   137.571045\n",
       "std     331.607050     9.676568     8.265301    13.729333    26.457287\n",
       "min     265.700000    52.082500    47.377700    19.796500    94.643700\n",
       "25%     347.380000    65.808500    54.183900    28.834700   109.701700\n",
       "50%     559.440000    68.364600    63.108100    32.905600   139.592900\n",
       "75%     839.150000    74.273700    69.566100    43.850500   155.908800\n",
       "max    1598.390000   108.218900    77.347700    77.558500   197.802200"
      ]
     },
     "execution_count": 12,
     "metadata": {},
     "output_type": "execute_result"
    }
   ],
   "source": [
    "px.describe()"
   ]
  },
  {
   "cell_type": "markdown",
   "metadata": {},
   "source": [
    "### Plot the Cumulative Returns of  each stock:"
   ]
  },
  {
   "cell_type": "code",
   "execution_count": 20,
   "metadata": {
    "collapsed": true
   },
   "outputs": [],
   "source": [
    "import seaborn as sns\n",
    "sns.set(style=\"ticks\")"
   ]
  },
  {
   "cell_type": "markdown",
   "metadata": {},
   "source": [
    "### Figure Cumulative returns for each of the stocks"
   ]
  },
  {
   "cell_type": "code",
   "execution_count": 21,
   "metadata": {},
   "outputs": [
    {
     "data": {
      "image/png": "[encoded data removed]",
      "text/plain": [
       "<matplotlib.figure.Figure at 0x2d334143780>"
      ]
     },
     "metadata": {},
     "output_type": "display_data"
    }
   ],
   "source": [
    "px = px.asfreq('B').fillna(method='pad')\n",
    "rets = px.pct_change()\n",
    "((1 + rets).cumprod() - 1).plot()\n",
    "plt.show()"
   ]
  },
  {
   "cell_type": "markdown",
   "metadata": {},
   "source": [
    "### For the portfolio construction, we�ll compute momentum over a certain lookback, then rank in descending order and standardize:"
   ]
  },
  {
   "cell_type": "code",
   "execution_count": 30,
   "metadata": {
    "collapsed": true
   },
   "outputs": [],
   "source": [
    "def calc_mom(price, lookback, lag):\n",
    "    mom_ret = price.shift(lag).pct_change(lookback)\n",
    "    ranks = mom_ret.rank(axis=1, ascending=False)\n",
    "    demeaned = ranks.subtract(ranks.mean(axis=1), axis=0)\n",
    "    return demeaned.divide(demeaned.std(axis=1), axis=0)"
   ]
  },
  {
   "cell_type": "markdown",
   "metadata": {},
   "source": [
    "### With this transform function in hand, we can set up a strategy backtesting function that computes a portfolio for a particular lookback and holding period (days between trading), returning the overall Sharpe ratio"
   ]
  },
  {
   "cell_type": "code",
   "execution_count": 31,
   "metadata": {
    "collapsed": true
   },
   "outputs": [],
   "source": [
    "compound = lambda x : (1 + x).prod() - 1\n",
    "daily_sr = lambda x: x.mean() / x.std()\n",
    "\n",
    "def strat_sr(prices, lb, hold):\n",
    "    # Compute portfolio weights\n",
    "    freq = '%dB' % hold\n",
    "    port = calc_mom(prices, lb, lag=1)\n",
    "\n",
    "    daily_rets = prices.pct_change()\n",
    "\n",
    "    # Compute portfolio returns\n",
    "    port = port.shift(1).resample(freq, how='first')\n",
    "    returns = daily_rets.resample(freq, how=compound)\n",
    "    port_rets = (port * returns).sum(axis=1)\n",
    "\n",
    "    return daily_sr(port_rets) * np.sqrt(252 / hold)"
   ]
  },
  {
   "cell_type": "markdown",
   "metadata": {},
   "source": [
    "### When called with the prices and a parameter combination, this function returns a scalar value:"
   ]
  },
  {
   "cell_type": "code",
   "execution_count": 32,
   "metadata": {},
   "outputs": [
    {
     "name": "stderr",
     "output_type": "stream",
     "text": [
      "C:\\Users\\JZW847\\AppData\\Local\\Continuum\\anaconda3\\lib\\site-packages\\ipykernel_launcher.py:12: FutureWarning: how in .resample() is deprecated\n",
      "the new syntax is .resample(...).first()\n",
      "  if sys.path[0] == '':\n",
      "C:\\Users\\JZW847\\AppData\\Local\\Continuum\\anaconda3\\lib\\site-packages\\ipykernel_launcher.py:13: FutureWarning: how in .resample() is deprecated\n",
      "the new syntax is .resample(...)..apply(<func>)\n",
      "  del sys.path[0]\n"
     ]
    },
    {
     "data": {
      "text/plain": [
       "0.06557277314844359"
      ]
     },
     "execution_count": 32,
     "metadata": {},
     "output_type": "execute_result"
    }
   ],
   "source": [
    "strat_sr(px, 70, 30)"
   ]
  },
  {
   "cell_type": "markdown",
   "metadata": {},
   "source": [
    "### From there, you can evaluate the strat_sr function over a grid of parameters, storing them as you go in a defaultdict and finally putting the results in a DataFrame:"
   ]
  },
  {
   "cell_type": "code",
   "execution_count": 33,
   "metadata": {},
   "outputs": [
    {
     "name": "stderr",
     "output_type": "stream",
     "text": [
      "C:\\Users\\JZW847\\AppData\\Local\\Continuum\\anaconda3\\lib\\site-packages\\ipykernel_launcher.py:12: FutureWarning: how in .resample() is deprecated\n",
      "the new syntax is .resample(...).first()\n",
      "  if sys.path[0] == '':\n",
      "C:\\Users\\JZW847\\AppData\\Local\\Continuum\\anaconda3\\lib\\site-packages\\ipykernel_launcher.py:13: FutureWarning: how in .resample() is deprecated\n",
      "the new syntax is .resample(...)..apply(<func>)\n",
      "  del sys.path[0]\n"
     ]
    }
   ],
   "source": [
    "from collections import defaultdict\n",
    "\n",
    "lookbacks = range(20, 90, 5)\n",
    "holdings = range(20, 90, 5)\n",
    "dd = defaultdict(dict)\n",
    "for lb in lookbacks:\n",
    "    for hold in holdings:\n",
    "        dd[lb][hold] = strat_sr(px, lb, hold)\n",
    "\n",
    "ddf = DataFrame(dd)\n",
    "ddf.index.name = 'Holding Period'\n",
    "ddf.columns.name = 'Lookback Period'"
   ]
  },
  {
   "cell_type": "markdown",
   "metadata": {},
   "source": [
    "## Results"
   ]
  },
  {
   "cell_type": "markdown",
   "metadata": {},
   "source": [
    "### To visualize the results and get an idea of what�s going on, here is a function that uses matplotlib to produce a heatmap with some adornments:"
   ]
  },
  {
   "cell_type": "code",
   "execution_count": 34,
   "metadata": {
    "collapsed": true
   },
   "outputs": [],
   "source": [
    "import matplotlib.pyplot as plt\n",
    "\n",
    "def heatmap(df, cmap=plt.cm.gray_r):\n",
    "    fig = plt.figure()\n",
    "    ax = fig.add_subplot(111)\n",
    "    axim = ax.imshow(df.values, cmap=cmap, interpolation='nearest')\n",
    "    ax.set_xlabel(df.columns.name)\n",
    "    ax.set_xticks(np.arange(len(df.columns)))\n",
    "    ax.set_xticklabels(list(df.columns))\n",
    "    ax.set_ylabel(df.index.name)\n",
    "    ax.set_yticks(np.arange(len(df.index)))\n",
    "    ax.set_yticklabels(list(df.index))\n",
    "    plt.colorbar(axim)"
   ]
  },
  {
   "cell_type": "markdown",
   "metadata": {},
   "source": [
    "### Figure. Heatmap of momentum strategy Sharpe ratio (higher is better) over various lookbacks and holding periods"
   ]
  },
  {
   "cell_type": "code",
   "execution_count": 35,
   "metadata": {},
   "outputs": [
    {
     "data": {
      "image/png": "[encoded data removed]",
      "text/plain": [
       "<matplotlib.figure.Figure at 0x2d333f10710>"
      ]
     },
     "metadata": {},
     "output_type": "display_data"
    }
   ],
   "source": [
    "heatmap(ddf)\n",
    "plt.show()"
   ]
  },
  {
   "cell_type": "markdown",
   "metadata": {},
   "source": [
    "## Future Work, Discussion Conclusions, and Next Steps"
   ]
  },
  {
   "cell_type": "markdown",
   "metadata": {},
   "source": [
    "## References"
   ]
  },
  {
   "cell_type": "markdown",
   "metadata": {},
   "source": [
    "## Literature Review"
   ]
  },
  {
   "cell_type": "markdown",
   "metadata": {},
   "source": [
    "In the book \"Practical Time Series Analysis: Master Time Series Data Processing, Visualization, and Modeling Using Python� by Dr. Avishek Pal, the author describes practical methods of how to process and visualize time series data. Dr. Pal brought up the notion that in order to perform meaningful statistics, data should be aggregated and resampled over periods that are longer than the granular time indices in the existing data set.\n",
    "    \n",
    "The author describes a number of practical steps to pre-process the data, but specifically resampling and group-by operations are both very useful techniques to reduce the noise and at the same time smooth the original time series. But sometimes continuous or running aggregates of time series are required for analysis. One technique is to compute aggregates over windows of time periods, this is known as calculating moving statistics. Finally, Dr. Pal, dives into more complex topics like deep learning for time series forecasting. Those topics include training recurrent neural networks and solving the long-range dependency problem in relation to time series.\n"
   ]
  }
 ],
 "metadata": {
  "anaconda-cloud": {},
  "kernelspec": {
   "display_name": "Python 3",
   "language": "python",
   "name": "python3"
  },
  "language_info": {
   "codemirror_mode": {
    "name": "ipython",
    "version": 3
   },
   "file_extension": ".py",
   "mimetype": "text/x-python",
   "name": "python",
   "nbconvert_exporter": "python",
   "pygments_lexer": "ipython3",
   "version": "3.6.3"
  }
 },
 "nbformat": 4,
 "nbformat_minor": 1
}
