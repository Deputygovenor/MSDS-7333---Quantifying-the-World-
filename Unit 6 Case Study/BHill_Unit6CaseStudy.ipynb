{
 "cells": [
  {
   "cell_type": "markdown",
   "metadata": {},
   "source": [
    "<h1><center>Real-Time Location System Case Study</center></h1>\n",
    "<center> David Tran, Frank Sclafani, Matthew Przybyla, and Brandon Hill</center>\n",
    "<center> MSDS 7333 - Quantifying the World - Case Study 6 (Unit 6)</center>\n",
    "<center> June 19, 2018</center>"
   ]
  },
  {
   "cell_type": "code",
   "execution_count": 1,
   "metadata": {
    "scrolled": true
   },
   "outputs": [
    {
     "data": {
      "text/html": [
       "\n",
       "<style>\n",
       "    div#notebook-container    { width: 80%; }\n",
       "    div#menubar-container     { width: 55%; }\n",
       "    div#maintoolbar-container { width: 95%; }\n",
       "</style>\n"
      ],
      "text/plain": [
       "<IPython.core.display.HTML object>"
      ]
     },
     "metadata": {},
     "output_type": "display_data"
    }
   ],
   "source": [
    "# This cell just tells the notebook to set the width of the cells in relation to the screen width\n",
    "from IPython.display import display, HTML\n",
    "display(HTML(data=\"\"\"\n",
    "<style>\n",
    "    div#notebook-container    { width: 80%; }\n",
    "    div#menubar-container     { width: 55%; }\n",
    "    div#maintoolbar-container { width: 95%; }\n",
    "</style>\n",
    "\"\"\"))\n",
    "\n",
    "import warnings\n",
    "warnings.filterwarnings('ignore')"
   ]
  },
  {
   "cell_type": "code",
   "execution_count": 33,
   "metadata": {},
   "outputs": [
    {
     "name": "stdout",
     "output_type": "stream",
     "text": [
      "Pulling Raw Data\n",
      "Raw Data Loaded\n"
     ]
    }
   ],
   "source": [
    "import pandas as pd\n",
    "print('Pulling Raw Data')\n",
    "\n",
    "rtls_link = 'http://rdatasciencecases.org/Data/offline.final.trace.txt'\n",
    "series = pd.read_table(rtls_link, squeeze=True, engine='python', skiprows=2, skipfooter=1)\n",
    "series.tail()\n",
    "\n",
    "print('Raw Data Loaded')"
   ]
  },
  {
   "cell_type": "code",
   "execution_count": 37,
   "metadata": {},
   "outputs": [],
   "source": [
    "labels = ['T','ID','POS','DEGREE','MAC_0','MAC_1','MAC_2','MAC_3','MAC_4',\n",
    "          'MAC_5','MAC_6','MAC_7','MAC_8','MAC_9','MAC_10','MAC_11','MAC_12',\n",
    "          'MAC_13','MAC_14','MAC_15','MAC_16','MAC_17','MAC_18','MAC_19','MAC_20']\n",
    "df = pd.DataFrame([x.split(';') for x in series.values], columns = labels)"
   ]
  },
  {
   "cell_type": "code",
   "execution_count": 43,
   "metadata": {},
   "outputs": [],
   "source": [
    "df['T'] = df['T'].str.replace(\"t=\", \"\")\n",
    "df['ID'] = df.ID.str.replace(\"id=\", \"\")\n",
    "df['POS'] = df.POS.str.replace(\"pos=\", \"\")\n",
    "df['DEGREE'] = df.DEGREE.str.replace(\"degree=\", \"\")"
   ]
  },
  {
   "cell_type": "code",
   "execution_count": 45,
   "metadata": {
    "collapsed": true
   },
   "outputs": [],
   "source": [
    "d = {}\n",
    "for i, x in enumerate(df['POS'].values):\n",
    "    if x != None:\n",
    "        temp = x.split(\",\")\n",
    "        d[i] = [float(y) for y in temp]\n",
    "    else:\n",
    "        d[i] = None\n",
    "\n",
    "pos = pd.Series(d)\n",
    "\n",
    "df['POS'] = pos"
   ]
  },
  {
   "cell_type": "code",
   "execution_count": 49,
   "metadata": {
    "collapsed": true
   },
   "outputs": [],
   "source": [
    "df['DEGREE'] = pd.to_numeric(df.DEGREE, errors='coerce', downcast='float')"
   ]
  },
  {
   "cell_type": "code",
   "execution_count": 50,
   "metadata": {},
   "outputs": [
    {
     "data": {
      "text/html": [
       "<div>\n",
       "<style>\n",
       "    .dataframe thead tr:only-child th {\n",
       "        text-align: right;\n",
       "    }\n",
       "\n",
       "    .dataframe thead th {\n",
       "        text-align: left;\n",
       "    }\n",
       "\n",
       "    .dataframe tbody tr th {\n",
       "        vertical-align: top;\n",
       "    }\n",
       "</style>\n",
       "<table border=\"1\" class=\"dataframe\">\n",
       "  <thead>\n",
       "    <tr style=\"text-align: right;\">\n",
       "      <th></th>\n",
       "      <th>T</th>\n",
       "      <th>ID</th>\n",
       "      <th>POS</th>\n",
       "      <th>DEGREE</th>\n",
       "      <th>MAC_0</th>\n",
       "      <th>MAC_1</th>\n",
       "      <th>MAC_2</th>\n",
       "      <th>MAC_3</th>\n",
       "      <th>MAC_4</th>\n",
       "      <th>MAC_5</th>\n",
       "      <th>...</th>\n",
       "      <th>MAC_11</th>\n",
       "      <th>MAC_12</th>\n",
       "      <th>MAC_13</th>\n",
       "      <th>MAC_14</th>\n",
       "      <th>MAC_15</th>\n",
       "      <th>MAC_16</th>\n",
       "      <th>MAC_17</th>\n",
       "      <th>MAC_18</th>\n",
       "      <th>MAC_19</th>\n",
       "      <th>MAC_20</th>\n",
       "    </tr>\n",
       "  </thead>\n",
       "  <tbody>\n",
       "    <tr>\n",
       "      <th>151383</th>\n",
       "      <td>1141936869448</td>\n",
       "      <td>00:02:2D:21:0F:33</td>\n",
       "      <td>[20.0, 8.0, 0.0]</td>\n",
       "      <td>315.700012</td>\n",
       "      <td>00:0f:a3:39:e1:c0=-51,2462000000,3</td>\n",
       "      <td>00:14:bf:b1:97:8d=-56,2442000000,3</td>\n",
       "      <td>00:14:bf:b1:97:8a=-60,2437000000,3</td>\n",
       "      <td>00:14:bf:b1:97:90=-69,2427000000,3</td>\n",
       "      <td>00:0f:a3:39:dd:cd=-76,2412000000,3</td>\n",
       "      <td>02:b7:00:bb:a9:35=-67,2447000000,1</td>\n",
       "      <td>...</td>\n",
       "      <td>None</td>\n",
       "      <td>None</td>\n",
       "      <td>None</td>\n",
       "      <td>None</td>\n",
       "      <td>None</td>\n",
       "      <td>None</td>\n",
       "      <td>None</td>\n",
       "      <td>None</td>\n",
       "      <td>None</td>\n",
       "      <td>None</td>\n",
       "    </tr>\n",
       "    <tr>\n",
       "      <th>151384</th>\n",
       "      <td>1141936869700</td>\n",
       "      <td>00:02:2D:21:0F:33</td>\n",
       "      <td>[20.0, 8.0, 0.0]</td>\n",
       "      <td>315.700012</td>\n",
       "      <td>00:0f:a3:39:e1:c0=-53,2462000000,3</td>\n",
       "      <td>00:14:bf:3b:c7:c6=-52,2432000000,3</td>\n",
       "      <td>00:14:bf:b1:97:8d=-62,2442000000,3</td>\n",
       "      <td>00:14:bf:b1:97:81=-58,2422000000,3</td>\n",
       "      <td>00:14:bf:b1:97:8a=-61,2437000000,3</td>\n",
       "      <td>00:0f:a3:39:dd:cd=-77,2412000000,3</td>\n",
       "      <td>...</td>\n",
       "      <td>None</td>\n",
       "      <td>None</td>\n",
       "      <td>None</td>\n",
       "      <td>None</td>\n",
       "      <td>None</td>\n",
       "      <td>None</td>\n",
       "      <td>None</td>\n",
       "      <td>None</td>\n",
       "      <td>None</td>\n",
       "      <td>None</td>\n",
       "    </tr>\n",
       "    <tr>\n",
       "      <th>151385</th>\n",
       "      <td>1141936869952</td>\n",
       "      <td>00:02:2D:21:0F:33</td>\n",
       "      <td>[20.0, 8.0, 0.0]</td>\n",
       "      <td>315.700012</td>\n",
       "      <td>00:0f:a3:39:e1:c0=-54,2462000000,3</td>\n",
       "      <td>00:14:bf:3b:c7:c6=-58,2432000000,3</td>\n",
       "      <td>00:14:bf:b1:97:8d=-56,2442000000,3</td>\n",
       "      <td>00:14:bf:b1:97:8a=-60,2437000000,3</td>\n",
       "      <td>00:14:bf:b1:97:90=-69,2427000000,3</td>\n",
       "      <td>00:0f:a3:39:dd:cd=-77,2412000000,3</td>\n",
       "      <td>...</td>\n",
       "      <td>None</td>\n",
       "      <td>None</td>\n",
       "      <td>None</td>\n",
       "      <td>None</td>\n",
       "      <td>None</td>\n",
       "      <td>None</td>\n",
       "      <td>None</td>\n",
       "      <td>None</td>\n",
       "      <td>None</td>\n",
       "      <td>None</td>\n",
       "    </tr>\n",
       "    <tr>\n",
       "      <th>151386</th>\n",
       "      <td>1141936870204</td>\n",
       "      <td>00:02:2D:21:0F:33</td>\n",
       "      <td>[20.0, 8.0, 0.0]</td>\n",
       "      <td>315.700012</td>\n",
       "      <td>00:14:bf:3b:c7:c6=-51,2432000000,3</td>\n",
       "      <td>00:0f:a3:39:e1:c0=-53,2462000000,3</td>\n",
       "      <td>00:14:bf:b1:97:8a=-61,2437000000,3</td>\n",
       "      <td>00:14:bf:b1:97:81=-60,2422000000,3</td>\n",
       "      <td>00:14:bf:b1:97:8d=-62,2442000000,3</td>\n",
       "      <td>00:0f:a3:39:dd:cd=-77,2412000000,3</td>\n",
       "      <td>...</td>\n",
       "      <td>None</td>\n",
       "      <td>None</td>\n",
       "      <td>None</td>\n",
       "      <td>None</td>\n",
       "      <td>None</td>\n",
       "      <td>None</td>\n",
       "      <td>None</td>\n",
       "      <td>None</td>\n",
       "      <td>None</td>\n",
       "      <td>None</td>\n",
       "    </tr>\n",
       "    <tr>\n",
       "      <th>151387</th>\n",
       "      <td>1141936870456</td>\n",
       "      <td>00:02:2D:21:0F:33</td>\n",
       "      <td>[20.0, 8.0, 0.0]</td>\n",
       "      <td>315.700012</td>\n",
       "      <td>00:14:bf:3b:c7:c6=-56,2432000000,3</td>\n",
       "      <td>00:0f:a3:39:e1:c0=-53,2462000000,3</td>\n",
       "      <td>00:14:bf:b1:97:8d=-61,2442000000,3</td>\n",
       "      <td>00:14:bf:b1:97:8a=-60,2437000000,3</td>\n",
       "      <td>00:14:bf:b1:97:81=-60,2422000000,3</td>\n",
       "      <td>00:14:bf:b1:97:90=-68,2427000000,3</td>\n",
       "      <td>...</td>\n",
       "      <td>None</td>\n",
       "      <td>None</td>\n",
       "      <td>None</td>\n",
       "      <td>None</td>\n",
       "      <td>None</td>\n",
       "      <td>None</td>\n",
       "      <td>None</td>\n",
       "      <td>None</td>\n",
       "      <td>None</td>\n",
       "      <td>None</td>\n",
       "    </tr>\n",
       "  </tbody>\n",
       "</table>\n",
       "<p>5 rows × 25 columns</p>\n",
       "</div>"
      ],
      "text/plain": [
       "                    T                 ID               POS      DEGREE  \\\n",
       "151383  1141936869448  00:02:2D:21:0F:33  [20.0, 8.0, 0.0]  315.700012   \n",
       "151384  1141936869700  00:02:2D:21:0F:33  [20.0, 8.0, 0.0]  315.700012   \n",
       "151385  1141936869952  00:02:2D:21:0F:33  [20.0, 8.0, 0.0]  315.700012   \n",
       "151386  1141936870204  00:02:2D:21:0F:33  [20.0, 8.0, 0.0]  315.700012   \n",
       "151387  1141936870456  00:02:2D:21:0F:33  [20.0, 8.0, 0.0]  315.700012   \n",
       "\n",
       "                                     MAC_0  \\\n",
       "151383  00:0f:a3:39:e1:c0=-51,2462000000,3   \n",
       "151384  00:0f:a3:39:e1:c0=-53,2462000000,3   \n",
       "151385  00:0f:a3:39:e1:c0=-54,2462000000,3   \n",
       "151386  00:14:bf:3b:c7:c6=-51,2432000000,3   \n",
       "151387  00:14:bf:3b:c7:c6=-56,2432000000,3   \n",
       "\n",
       "                                     MAC_1  \\\n",
       "151383  00:14:bf:b1:97:8d=-56,2442000000,3   \n",
       "151384  00:14:bf:3b:c7:c6=-52,2432000000,3   \n",
       "151385  00:14:bf:3b:c7:c6=-58,2432000000,3   \n",
       "151386  00:0f:a3:39:e1:c0=-53,2462000000,3   \n",
       "151387  00:0f:a3:39:e1:c0=-53,2462000000,3   \n",
       "\n",
       "                                     MAC_2  \\\n",
       "151383  00:14:bf:b1:97:8a=-60,2437000000,3   \n",
       "151384  00:14:bf:b1:97:8d=-62,2442000000,3   \n",
       "151385  00:14:bf:b1:97:8d=-56,2442000000,3   \n",
       "151386  00:14:bf:b1:97:8a=-61,2437000000,3   \n",
       "151387  00:14:bf:b1:97:8d=-61,2442000000,3   \n",
       "\n",
       "                                     MAC_3  \\\n",
       "151383  00:14:bf:b1:97:90=-69,2427000000,3   \n",
       "151384  00:14:bf:b1:97:81=-58,2422000000,3   \n",
       "151385  00:14:bf:b1:97:8a=-60,2437000000,3   \n",
       "151386  00:14:bf:b1:97:81=-60,2422000000,3   \n",
       "151387  00:14:bf:b1:97:8a=-60,2437000000,3   \n",
       "\n",
       "                                     MAC_4  \\\n",
       "151383  00:0f:a3:39:dd:cd=-76,2412000000,3   \n",
       "151384  00:14:bf:b1:97:8a=-61,2437000000,3   \n",
       "151385  00:14:bf:b1:97:90=-69,2427000000,3   \n",
       "151386  00:14:bf:b1:97:8d=-62,2442000000,3   \n",
       "151387  00:14:bf:b1:97:81=-60,2422000000,3   \n",
       "\n",
       "                                     MAC_5  ...   MAC_11 MAC_12 MAC_13 MAC_14  \\\n",
       "151383  02:b7:00:bb:a9:35=-67,2447000000,1  ...     None   None   None   None   \n",
       "151384  00:0f:a3:39:dd:cd=-77,2412000000,3  ...     None   None   None   None   \n",
       "151385  00:0f:a3:39:dd:cd=-77,2412000000,3  ...     None   None   None   None   \n",
       "151386  00:0f:a3:39:dd:cd=-77,2412000000,3  ...     None   None   None   None   \n",
       "151387  00:14:bf:b1:97:90=-68,2427000000,3  ...     None   None   None   None   \n",
       "\n",
       "       MAC_15 MAC_16 MAC_17 MAC_18 MAC_19 MAC_20  \n",
       "151383   None   None   None   None   None   None  \n",
       "151384   None   None   None   None   None   None  \n",
       "151385   None   None   None   None   None   None  \n",
       "151386   None   None   None   None   None   None  \n",
       "151387   None   None   None   None   None   None  \n",
       "\n",
       "[5 rows x 25 columns]"
      ]
     },
     "execution_count": 50,
     "metadata": {},
     "output_type": "execute_result"
    }
   ],
   "source": [
    "df.tail()"
   ]
  },
  {
   "cell_type": "markdown",
   "metadata": {},
   "source": [
    "# Notebook Navigation\n",
    "\n",
    "[1) Abstract](#Abstract) \n",
    "\n",
    "[2) Introduction](#Introduction)\n",
    "\n",
    "[3) Methods](#Methods - Signal Frontier Analysis) \n",
    "\n",
    "[4) Results](#Results) \n",
    "\n",
    "[5) Future Work / Discussion / Conclusions](#Future Work / Discussion / Conclusions) \n",
    "\n",
    "[6) References](#References) "
   ]
  },
  {
   "cell_type": "markdown",
   "metadata": {},
   "source": [
    "# Abstract"
   ]
  },
  {
   "cell_type": "markdown",
   "metadata": {},
   "source": [
    "Predicting Location via Indoor Positioning Systems\n",
    "\n",
    "\n",
    "    \n"
   ]
  },
  {
   "cell_type": "markdown",
   "metadata": {},
   "source": [
    "# Introduction"
   ]
  },
  {
   "cell_type": "markdown",
   "metadata": {},
   "source": []
  },
  {
   "cell_type": "markdown",
   "metadata": {},
   "source": [
    "## Background"
   ]
  },
  {
   "cell_type": "markdown",
   "metadata": {},
   "source": [
    "The stock market volumes dataset collected via the Yahoo Finance API contains 1,304 observations and 6 variables. There is no missing data within any of the variables across all observations. Our objective is to analyze the historical daily adjusted closing stock prices for 5 major retail companies for the 5-year span between June 4, 2013 and June 1, 2018. A full list of variable descriptions, including the Datetime variable in which the observation was captured and the data is indexed by, can be found in Table 1:"
   ]
  },
  {
   "cell_type": "markdown",
   "metadata": {
    "caption": "Variable Desscriptions",
    "label": "Table 1:Variable Descriptions",
    "widefigure": true
   },
   "source": [
    "|    Variable   |                                         Description                                         |    Type    |\n",
    "|:-------------:|:-------------------------------------------------------------------------------------------:|:----------:|\n",
    "| DatetimeIndex | Date observation was collected. (Index of data)                                             |  Ordinal   |\n",
    "| AMZN          | Amazon.com, Inc. adjusted close price adjusted for both dividends and   splits.             | Continuous |\n",
    "| WMT           | Walmart Inc. adjusted close price adjusted for both dividends and splits.                   | Continuous |\n",
    "| TGT           | Target Corporation adjusted close price adjusted for both dividends and   splits.           | Continuous |\n",
    "| BBY           | Best Buy Co., Inc. adjusted close price adjusted for both dividends and   splits.           | Continuous |\n",
    "| COST          | Costco Wholesale Corporation adjusted close price adjusted for both   dividends and splits. | Continuous |"
   ]
  },
  {
   "cell_type": "code",
   "execution_count": 3,
   "metadata": {},
   "outputs": [
    {
     "ename": "NameError",
     "evalue": "name 'px' is not defined",
     "output_type": "error",
     "traceback": [
      "\u001b[1;31m---------------------------------------------------------------------------\u001b[0m",
      "\u001b[1;31mNameError\u001b[0m                                 Traceback (most recent call last)",
      "\u001b[1;32m<ipython-input-3-1aced8d5b02b>\u001b[0m in \u001b[0;36m<module>\u001b[1;34m()\u001b[0m\n\u001b[1;32m----> 1\u001b[1;33m \u001b[0mpx\u001b[0m\u001b[1;33m.\u001b[0m\u001b[0mdescribe\u001b[0m\u001b[1;33m(\u001b[0m\u001b[1;33m)\u001b[0m\u001b[1;33m\u001b[0m\u001b[0m\n\u001b[0m",
      "\u001b[1;31mNameError\u001b[0m: name 'px' is not defined"
     ]
    }
   ],
   "source": [
    "px.describe()"
   ]
  },
  {
   "cell_type": "markdown",
   "metadata": {},
   "source": [
    "# Methods - Signal Frontier Analysis"
   ]
  },
  {
   "cell_type": "markdown",
   "metadata": {},
   "source": [
    "# Results"
   ]
  },
  {
   "cell_type": "markdown",
   "metadata": {},
   "source": [
    "# Future Work / Discussion / Conclusions"
   ]
  },
  {
   "cell_type": "markdown",
   "metadata": {},
   "source": [
    "# References"
   ]
  },
  {
   "cell_type": "markdown",
   "metadata": {},
   "source": [
    "\n"
   ]
  }
 ],
 "metadata": {
  "anaconda-cloud": {},
  "kernelspec": {
   "display_name": "Python 3",
   "language": "python",
   "name": "python3"
  },
  "language_info": {
   "codemirror_mode": {
    "name": "ipython",
    "version": 3
   },
   "file_extension": ".py",
   "mimetype": "text/x-python",
   "name": "python",
   "nbconvert_exporter": "python",
   "pygments_lexer": "ipython3",
   "version": "3.6.3"
  }
 },
 "nbformat": 4,
 "nbformat_minor": 1
}
